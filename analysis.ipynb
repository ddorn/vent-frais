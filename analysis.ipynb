{
 "cells": [
  {
   "attachments": {},
   "cell_type": "markdown",
   "metadata": {},
   "source": [
    "The goal is to load all the questions\n",
    "then turn them to embeddings\n",
    "and cluster them in 4 clusters"
   ]
  },
  {
   "cell_type": "code",
   "execution_count": 1,
   "metadata": {},
   "outputs": [
    {
     "name": "stdout",
     "output_type": "stream",
     "text": [
      "['ID', 'Question', 'Traduction', 'Score', 'Alexandre *', 'Diego *', 'Notes', 'Category', 'Mood', 'Mood feedback Alexandre', 'Difficulty', 'Tags', \"Alexandre's View\", 'Notes']\n",
      "Uplifting What does your ideal evening look like?\n",
      "Uplifting What does a perfect day look like for you?\n",
      "Uplifting What brings you most a sense of wonder in the natural world?\n",
      "Uplifting What motivates you to do what you do?\n",
      "Vulnerable What makes you angry?\n",
      "Uplifting What product still gives you happiness, long after the feeling of novelty has passed?\n",
      "Uplifting What is one of your dreams?\n",
      "Debate What is something surprinsing in your field of expertise?\n",
      "Uplifting What book, podcast or movie do you recommend without restraint?\n",
      "Uplifting What book, podcast or movie had a major impact on you?\n"
     ]
    }
   ],
   "source": [
    "import csv \n",
    "\n",
    "question_file = 'data/questions.csv'\n",
    "reader = csv.reader(open(question_file, 'r'))\n",
    "print(next(reader)) # skip header\n",
    "questions, categories = zip(*[(row[2], row[8])  for row in reader])\n",
    "\n",
    "# print first 10 questions\n",
    "for cat, q in zip(categories[:10], questions[:10]):\n",
    "    print(cat, q)"
   ]
  },
  {
   "cell_type": "code",
   "execution_count": null,
   "metadata": {},
   "outputs": [],
   "source": [
    "# turn them into embeddings\n",
    "from sentence_transformers import SentenceTransformer\n",
    "\n",
    "model = SentenceTransformer('all-MiniLM-L6-v2')\n",
    "\n",
    "print(\"Model size:\", sum(p.numel() for p in model.parameters()))"
   ]
  },
  {
   "cell_type": "code",
   "execution_count": 75,
   "metadata": {},
   "outputs": [
    {
     "name": "stdout",
     "output_type": "stream",
     "text": [
      "Embeddings shape: (137, 384)\n"
     ]
    }
   ],
   "source": [
    "embeddings = model.encode(questions)\n",
    "# normalize embeddings\n",
    "embeddings = embeddings / np.linalg.norm(embeddings, axis=1, keepdims=True)\n",
    "print(\"Embeddings shape:\", embeddings.shape)"
   ]
  },
  {
   "cell_type": "code",
   "execution_count": 76,
   "metadata": {},
   "outputs": [],
   "source": [
    "# k-means clustering to find similar questions\n",
    "from sklearn.cluster import KMeans\n",
    "NUM_CLUSTERS = 4\n",
    "\n",
    "kmeans = KMeans(n_clusters=NUM_CLUSTERS, random_state=0, n_init=100).fit(embeddings)"
   ]
  },
  {
   "cell_type": "code",
   "execution_count": 5,
   "metadata": {},
   "outputs": [
    {
     "name": "stdout",
     "output_type": "stream",
     "text": [
      "\n",
      "Cluster 0\n",
      "Why have we not encountered extraterrestrial life yet?\n",
      "If aliens landed on Earth, what would they be impressed by?\n",
      "If aliens landed on Earth, what would they find most bizarre?\n",
      "Would you rather have a perfect memory, or only need to sleep two hours a day?\n",
      "If in the future you had to replace a part of your body with a prosthesis, what part would it be?\n",
      "If you could have a drink with anyone in the world, who would it be?\n",
      "What major change do you anticipate for next year?\n",
      "Do you wish to have children?\n",
      "How much would you sell your soul for?\n",
      "If you find that mathematics are incoherent, how would you react?\n",
      "If you weren't to be a human, what would you be?\n",
      "In which country would you like to live?\n",
      "What do you want to improve on in the near future?\n",
      "If you could spend a night under the stars with anyone in the world, who would it be?\n",
      "How do you solve Pascal's Mugging?\n",
      "How long will there be humans on Earth?\n",
      "Are you more optimistic or pessimistic about the future?\n",
      "How are you going to die?\n",
      "How many boxes do you open in the Newcomb’s problem?\n",
      "How would your life change if you had a universal basic income of 1000$ per month?\n",
      "If you had a billion dollars, what would you do?\n",
      "If you stopped your studies today, what would you do?\n",
      "What should happen for you to change your mind about the existence of God?\n",
      "Would you go in the happiness machine?\n",
      "If you could change any part of the world with a magic wand, what would you do?\n",
      "If you could know one thing about the future, what would it be?\n",
      "If you thought unaligned AGI would be created in 10 years, what would you do? \n",
      "If you were dictator of the world, what is the first measure you would put in place?\n",
      "Is there a way in which you would like the world to be better?\n",
      "What does the world of 2050 look like with net-zero carbon emissions?\n",
      "What is missing from the current education system?\n",
      "Would you go into a teleporter?\n",
      "What would humans do if they no longer needed to work?\n",
      "What does a world with digital minds look like?\n",
      "What is the greatest threat to humanity in your field of expertise?\n",
      "You discover a gene that's 90% correlated with homicide. What do you decide to do?\n",
      "\n",
      "Cluster 1\n",
      "Do you have an internal monologue?\n",
      "If you could change one thing instantly, what would make you happy?\n",
      "What book, podcast or movie had a major impact on you?\n",
      "What brings you joy in a typical day?\n",
      "What is a gift that brought you joy? Why ?\n",
      "What is one childhood memories you hold dear?\n",
      "What is one of your dreams?\n",
      "What is one of your most memorable evenings? Why ?\n",
      "What kind of adventures do you prefer? People, places, cultures, knowledge, something else?\n",
      "What motivates you to do what you do?\n",
      "What place makes you nostalgic?\n",
      "What product still gives you happiness, long after the feeling of novelty has passed?\n",
      "When's the last time you did something for the first time?\n",
      "Where do you wish you stayed longer?\n",
      "When did you come closest to death?\n",
      "What book, podcast or movie do you recommend without restraint?\n",
      "How do you manage to let go and forget your responsibilities for a moment?\n",
      "What are you very grateful to your parents for?\n",
      "What brings you sadness on a typical day?\n",
      "What could your parents have done better for you?\n",
      "What did the 10-year-old-you give to the 20-year-old-you?\n",
      "What event from your childhood had the most impact on what you do today?\n",
      "What have you wanted to do for a long time but don't? Why?\n",
      "What is one of the riskiest actions you have taken?\n",
      "What music makes you cry?\n",
      "What would the 10-year-old-you say about your life now?\n",
      "When have you done something brave?\n",
      "Which activities makes you the most energised?\n",
      "What is one of your greatest achievements? One thing you're proud of about yourself?\n",
      "What's one of humanity's most significant achievement so far?\n",
      "If you had to start your life over with some advice, what would it be?\n",
      "What do you think is your best achievement?\n",
      "What is an action that you regret?\n",
      "What do other people think is your best achievement?\n",
      "What is one of your deepest moments of sadness/happiness?\n",
      "What is something you are not proud of? \n",
      "When was the last time you cried? (and that you are okay to share)\n",
      "\n",
      "Cluster 2\n",
      "What do you discuss with your (grand)parents during a family dinner?\n",
      "What does a perfect day look like for you?\n",
      "What does your ideal evening look like?\n",
      "What irritates you?\n",
      "What keeps you up at night?\n",
      "What major change have you experienced in the last 12 months?\n",
      "What makes you angry?\n",
      "What makes you like or dislike a person?\n",
      "What makes you want to fight?\n",
      "What qualities do your parents find in you? (friends ?)\n",
      "What are maximaly interesting questions?\n",
      "What brings you a most sense of wonder in the natural world?\n",
      "What is a cause close to your heart and why?\n",
      "What’s a place you like in your hometown?\n",
      "How are you different to a typical person?\n",
      "Is there something you think and would like to act upon?\n",
      "What makes you get up in the morning?\n",
      "What is your relationship with your parents?\n",
      "How do your friends describe you?\n",
      "What are the most important qualities for you in a romantic partner?\n",
      "What are the most important qualities in a friend for you?\n",
      "What is something scientific that you admire?\n",
      "What’s your relationship with religion?\n",
      "Where does beauty comes from?\n",
      "What brings great discussion?\n",
      "What are you looking for in a discussion?\n",
      "What are you struggling with? \n",
      "What question could someone ask to learn the most about you?\n",
      "What's your part of light? What's your part of darkness?\n",
      "What are you afraid of?\n",
      "What are you looking for in a romantic relationship?\n",
      "What holds (held) you back from being vegan?\n",
      "Which achievment do you value a lot, but isn’t much considered by others\n",
      "What is gender?\n",
      "Do you think that identity exists, or is it just a feeling arising to make our personal history coherent?\n",
      "What questions do you like to ask to better understand another person? Why?\n",
      "What's your feeling right now?\n",
      "If you had to give up hugs or sex, which one would you choose? \n",
      "Are you wondering how one of your physical traits is perceived?\n",
      "Could you have a polyamorous relationship?\n",
      "Have you ever fallen in love?\n",
      "Is there something you never said to anybody?\n",
      "What are you afraid others might judge you about? \n",
      "What is one mistake you’ve encountered in a romantic relationship that you learned from and want to share?\n",
      "What makes it hard for you to be vulnerable? \n",
      "What makes you sad about your interaction with other humans? \n",
      "Why are you monogamous?\n",
      "What are the low confidence hypotheses you make about me?\n",
      "What is something surprinsing in your field of expertise?\n",
      "\n",
      "Cluster 3\n",
      "Should we ban or severely limit television?\n",
      "Should we block roads to force politicians to act for the climate?\n",
      "Do animals have the right to equal treatment?\n",
      "How can we save the world?\n",
      "How could we make the internet profitable without selling data?\n",
      "Is violence justified to push a greater cause?\n",
      "What are the arguments against utilitarianism?\n",
      "If someone suffers far, does it mean that we should care less?\n",
      "Is sobriety the solution to our environmental problems?\n",
      "Should we ban abortion?\n",
      "Should we ban the majority of advertisements?\n",
      "Can we take the plane if we compensate our CO2 emissions?\n",
      "Do insects suffer?\n",
      "Should we have the same regulatory system for AIs as for drugs? And for technology in general?\n",
      "Should we get out of capitalism?\n"
     ]
    }
   ],
   "source": [
    "# Show the clusters\n",
    "for i in range(NUM_CLUSTERS):\n",
    "    print(\"\\nCluster\", i)\n",
    "    for j in range(len(questions)):\n",
    "        if kmeans.labels_[j] == i:\n",
    "            # print(categories[j], questions[j])\n",
    "            print(questions[j])"
   ]
  },
  {
   "cell_type": "code",
   "execution_count": 77,
   "metadata": {},
   "outputs": [
    {
     "name": "stdout",
     "output_type": "stream",
     "text": [
      "\n",
      "Cluster 0\n",
      "0 Regard sur le monde If you could know one thing about the future, what would it be?\n",
      "0 Perso - Easy If you weren't to be a human, what would you be?\n",
      "0 Regard sur le monde If you could change any part of the world with a magic wand, what would you do?\n",
      "0 Perso - Easy If you had a billion dollars, what would you do?\n",
      "1 Perso - Easy If you could change one thing instantly, what would make you happy?\n",
      "0 About the world What would humans do if they no longer needed to work?\n",
      "0 Regard sur le monde What is the greatest threat to humanity in your field of expertise?\n",
      "0 Regard sur le monde If in the future you had to replace a part of your body with a prosthesis, what part would it be?\n",
      "0 Perso - Hard If you stopped your studies today, what would you do?\n",
      "0 Perso - Easy How would your life change if you had a universal basic income of 1000$ per month?\n",
      "\n",
      "Cluster 1\n",
      "1 Perso - Easy What event from your childhood had the most impact on what you do today?\n",
      "1 Perso - Hard What is one of your deepest moments of sadness/happiness?\n",
      "1 Perso - Hard What do other people think is your best achievement?\n",
      "1 Perso - Easy What do you think is your best achievement?\n",
      "1 Perso - Hard What is one of your greatest achievements? One thing you're proud of about yourself?\n",
      "1 Perso - Easy What is one childhood memories you hold dear?\n",
      "1 Perso - Easy What brings you sadness on a typical day?\n",
      "1 Perso - Easy What brings you joy in a typical day?\n",
      "1 Perso - Easy If you could change one thing instantly, what would make you happy?\n",
      "1 Perso - Easy What is one of your most memorable evenings? Why ?\n",
      "\n",
      "Cluster 2\n",
      "2 Perso - Easy What question could someone ask to learn the most about you?\n",
      "2 Perso - Easy What qualities do your parents find in you? (friends ?)\n",
      "2 Perso - Easy What makes you want to fight?\n",
      "2 Perso - Hard What are you afraid others might judge you about? \n",
      "2 Perso - Easy What makes you like or dislike a person?\n",
      "2 Perso - Hard What are you afraid of?\n",
      "2 Perso - Easy What is your relationship with your parents?\n",
      "2 Regard sur le monde What is something scientific that you admire?\n",
      "2 Perso - Easy What makes you angry?\n",
      "2 Perso - Hard What makes you sad about your interaction with other humans? \n",
      "\n",
      "Cluster 3\n",
      "3 Regard sur le monde Should we block roads to force politicians to act for the climate?\n",
      "3 Regard sur le monde Should we ban abortion?\n",
      "3 Regard sur le monde Should we ban or severely limit television?\n",
      "3 Regard sur le monde Should we get out of capitalism?\n",
      "3 Regard sur le monde Is sobriety the solution to our environmental problems?\n",
      "3 About the world How can we save the world?\n",
      "3 About the world Is violence justified to push a greater cause?\n",
      "3 Regard sur le monde Should we ban the majority of advertisements?\n",
      "3 About the world What are the arguments against utilitarianism?\n",
      "3 About the world Do animals have the right to equal treatment?\n"
     ]
    }
   ],
   "source": [
    "# Find the 3 question closest to the center of each cluster\n",
    "\n",
    "for i in range(NUM_CLUSTERS):\n",
    "    print(\"\\nCluster\", i)\n",
    "    center = kmeans.cluster_centers_[i]\n",
    "    sims = np.linalg.norm(embeddings - center, axis=1)\n",
    "    closest = sims.argsort()[:10]\n",
    "    for j in closest:\n",
    "        print(kmeans.labels_[j], categories[j], questions[j])"
   ]
  },
  {
   "cell_type": "code",
   "execution_count": 7,
   "metadata": {},
   "outputs": [
    {
     "data": {
      "application/vnd.plotly.v1+json": {
       "config": {
        "plotlyServerURL": "https://plot.ly"
       },
       "data": [
        {
         "hovertemplate": "0=%{x}<br>1=%{y}<br>2=%{z}<br>color=%{marker.color}<extra></extra>",
         "legendgroup": "",
         "marker": {
          "color": [
           0,
           1,
           0,
           0,
           1,
           1,
           1,
           2,
           2,
           2,
           2,
           1,
           1,
           1,
           1,
           2,
           1,
           2,
           2,
           2,
           2,
           1,
           1,
           1,
           2,
           1,
           1,
           0,
           1,
           0,
           0,
           2,
           1,
           2,
           2,
           2,
           0,
           0,
           2,
           1,
           0,
           0,
           0,
           0,
           2,
           1,
           1,
           1,
           1,
           0,
           1,
           1,
           1,
           2,
           1,
           1,
           1,
           1,
           2,
           2,
           1,
           0,
           3,
           3,
           2,
           2,
           2,
           1,
           2,
           2,
           3,
           3,
           3,
           0,
           0,
           3,
           3,
           2,
           0,
           0,
           0,
           0,
           0,
           1,
           2,
           2,
           1,
           2,
           2,
           0,
           2,
           2,
           2,
           1,
           0,
           2,
           0,
           3,
           0,
           0,
           0,
           0,
           3,
           0,
           3,
           3,
           0,
           0,
           0,
           3,
           3,
           3,
           2,
           0,
           2,
           1,
           2,
           2,
           3,
           0,
           0,
           0,
           2,
           2,
           2,
           2,
           2,
           2,
           2,
           1,
           1,
           2,
           2,
           1,
           2,
           2,
           2
          ],
          "coloraxis": "coloraxis",
          "symbol": "circle"
         },
         "mode": "markers",
         "name": "",
         "scene": "scene",
         "showlegend": false,
         "type": "scatter3d",
         "x": [
          0.9741580486297607,
          1.0004405975341797,
          0.8775960206985474,
          0.8649243712425232,
          0.8002798557281494,
          0.9721664786338806,
          0.9327495098114014,
          1.0126837491989136,
          0.9447495341300964,
          0.940298318862915,
          0.9545839428901672,
          0.970920741558075,
          0.9785709977149963,
          0.8716534972190857,
          0.9909728765487671,
          0.9744687080383301,
          0.9341502785682678,
          0.9317017793655396,
          0.9356026649475098,
          0.9876895546913147,
          0.9107667803764343,
          0.9520582556724548,
          0.9452896118164062,
          0.9312363266944885,
          0.9970211982727051,
          1.0321236848831177,
          0.8802948594093323,
          0.9025918841362,
          0.9555894732475281,
          0.8245758414268494,
          0.8828949928283691,
          1.0055841207504272,
          1.0203473567962646,
          0.8790531754493713,
          1.0195558071136475,
          0.9941149950027466,
          0.8353690505027771,
          0.9139508605003357,
          0.9961550831794739,
          1.0247389078140259,
          0.8935442566871643,
          0.9415276050567627,
          0.7723977565765381,
          0.8643704652786255,
          0.9244705438613892,
          0.9630178213119507,
          0.9578340649604797,
          0.9715946316719055,
          0.9774643778800964,
          0.837807834148407,
          0.9257225394248962,
          0.8658950328826904,
          0.9352477788925171,
          0.9886253476142883,
          1.0241215229034424,
          0.8711380362510681,
          0.9750080108642578,
          0.9172900915145874,
          0.9937323331832886,
          1.0349420309066772,
          0.9615949392318726,
          0.8921772837638855,
          0.9857386350631714,
          1.0269715785980225,
          1.0319101810455322,
          1.0237669944763184,
          0.9189750552177429,
          0.8904111385345459,
          0.996368408203125,
          1.0439289808273315,
          1.0576682090759277,
          0.891136109828949,
          0.994033932685852,
          1.0074825286865234,
          0.8877435326576233,
          1.0636708736419678,
          1.01858651638031,
          0.9769748449325562,
          0.8559049367904663,
          0.8805497884750366,
          1.017904281616211,
          0.8300045728683472,
          0.7871606945991516,
          0.8590436577796936,
          0.9341251850128174,
          0.9367165565490723,
          0.9219653606414795,
          0.9069254994392395,
          0.9422879219055176,
          0.8292279839515686,
          0.892593502998352,
          1.0041272640228271,
          1.0029339790344238,
          0.9378787875175476,
          0.8733424544334412,
          0.9464423060417175,
          0.874711811542511,
          1.0345206260681152,
          0.7865937948226929,
          0.749786376953125,
          0.8624442219734192,
          0.8337551355361938,
          1.0091943740844727,
          0.8833166360855103,
          1.0188276767730713,
          1.0487488508224487,
          0.8991461992263794,
          0.9650166034698486,
          0.8890154361724854,
          1.0230947732925415,
          1.049736738204956,
          1.0305975675582886,
          1.033926010131836,
          0.8094704151153564,
          1.0071418285369873,
          0.9189012050628662,
          0.9929434061050415,
          0.924857497215271,
          0.9695300459861755,
          0.8905072808265686,
          0.8140089511871338,
          0.9305936694145203,
          0.9487113356590271,
          0.9978803992271423,
          1.0432153940200806,
          1.0647635459899902,
          0.9955417513847351,
          0.9502996802330017,
          1.026302456855774,
          0.9730742573738098,
          0.9375889897346497,
          0.9789355397224426,
          0.9020703434944153,
          1.0651189088821411,
          1.0282917022705078,
          0.9805650115013123,
          0.9482631683349609
         ],
         "y": [
          1.1183514595031738,
          0.9351861476898193,
          1.0081167221069336,
          0.9913216829299927,
          0.7503553628921509,
          0.8335360288619995,
          0.7469131350517273,
          0.9427053332328796,
          0.9099778532981873,
          0.9369941353797913,
          0.9356709122657776,
          0.7688664793968201,
          0.7331023812294006,
          0.8110009431838989,
          0.768378496170044,
          0.9403955340385437,
          0.9097029566764832,
          0.914831817150116,
          0.9054282307624817,
          0.954468846321106,
          0.8909048438072205,
          0.796147882938385,
          0.7999871969223022,
          0.8152180910110474,
          0.9249894022941589,
          0.8754875063896179,
          0.8125308752059937,
          0.9627846479415894,
          0.9030897617340088,
          0.9731234908103943,
          0.9830161333084106,
          1.0120075941085815,
          0.9454768896102905,
          0.8831056356430054,
          0.9574846625328064,
          0.9413938522338867,
          0.9335145354270935,
          0.9571593403816223,
          0.9971777200698853,
          0.9203713536262512,
          1.0024794340133667,
          1.098387360572815,
          0.901245653629303,
          0.9922991394996643,
          0.9611375331878662,
          0.7960521578788757,
          0.7392298579216003,
          0.8233240246772766,
          0.8741302490234375,
          0.9279811382293701,
          0.6613999009132385,
          0.8203877806663513,
          0.8264867067337036,
          0.9584600925445557,
          0.8845174908638,
          0.8355599045753479,
          0.8004505634307861,
          0.7716435790061951,
          0.8947073817253113,
          0.9852878451347351,
          0.7329744100570679,
          1.0138946771621704,
          1.0925949811935425,
          1.1315339803695679,
          1.0040500164031982,
          0.9909654855728149,
          0.8783741593360901,
          0.8307338953018188,
          0.963215172290802,
          1.0587722063064575,
          1.115261435508728,
          1.0066097974777222,
          1.1052638292312622,
          1.101731538772583,
          1.1103346347808838,
          1.0946688652038574,
          1.0483065843582153,
          0.9713602662086487,
          0.9974275231361389,
          0.9785298109054565,
          1.091689944267273,
          0.9883717894554138,
          0.9836867451667786,
          0.8264505863189697,
          1.0197033882141113,
          0.9621375799179077,
          0.7061430215835571,
          0.8875864148139954,
          0.957216203212738,
          0.8866099715232849,
          0.9185997843742371,
          1.0030204057693481,
          1.0038444995880127,
          0.7861189842224121,
          1.0293304920196533,
          0.9769614338874817,
          0.9533830881118774,
          1.0869537591934204,
          0.9431242942810059,
          0.9121699929237366,
          1.055909514427185,
          0.9628026485443115,
          1.0686792135238647,
          0.9790891408920288,
          1.126373529434204,
          1.1455357074737549,
          1.1073940992355347,
          1.0797667503356934,
          1.0478100776672363,
          1.1516677141189575,
          1.1007843017578125,
          1.1848362684249878,
          1.0900115966796875,
          0.9888994097709656,
          1.0152617692947388,
          0.6877054572105408,
          0.9944151043891907,
          0.8859462738037109,
          1.1280173063278198,
          1.0651962757110596,
          0.9231911897659302,
          1.06435227394104,
          0.9305601716041565,
          1.0031027793884277,
          1.0865403413772583,
          0.9646347761154175,
          0.9137333035469055,
          0.9434243440628052,
          0.9162267446517944,
          0.6818828582763672,
          0.7835330367088318,
          0.9571748971939087,
          0.8616933822631836,
          0.8549695014953613,
          1.015094518661499,
          1.0010144710540771,
          0.9787088632583618
         ],
         "z": [
          1.0553348064422607,
          0.9388360381126404,
          0.9769240617752075,
          0.9526997208595276,
          0.8290541172027588,
          0.9239992499351501,
          0.8418332934379578,
          0.8908416032791138,
          0.8640649318695068,
          0.8738650679588318,
          0.8496105670928955,
          0.8845905661582947,
          0.852894127368927,
          0.8814130425453186,
          0.8947349786758423,
          0.8789873123168945,
          0.9513857364654541,
          0.8947803378105164,
          0.8162189722061157,
          0.8121234774589539,
          0.8008716702461243,
          0.8642083406448364,
          0.8920846581459045,
          0.8910440802574158,
          0.7959878444671631,
          0.9768623113632202,
          0.9111960530281067,
          0.9804568290710449,
          0.9652303457260132,
          0.9584622383117676,
          0.946657657623291,
          0.9380789995193481,
          1.0067654848098755,
          0.828646719455719,
          0.8758294582366943,
          0.92991042137146,
          0.9301351308822632,
          0.934978723526001,
          0.872843325138092,
          0.9998151063919067,
          0.9675824046134949,
          1.0118441581726074,
          0.8502985835075378,
          0.9688669443130493,
          0.8754034638404846,
          0.8975241780281067,
          0.8359408378601074,
          0.9313778281211853,
          0.9539328217506409,
          0.9237300157546997,
          0.8861339092254639,
          0.9177260398864746,
          0.9125125408172607,
          0.889946699142456,
          0.9309760332107544,
          0.9245959520339966,
          0.9085988998413086,
          0.8852413296699524,
          0.8144511580467224,
          0.8631629943847656,
          0.8941007256507874,
          0.9659429788589478,
          1.0745792388916016,
          1.0920612812042236,
          0.8357030153274536,
          0.8435309529304504,
          0.8156036734580994,
          0.9462586045265198,
          0.8468606472015381,
          0.9538308382034302,
          1.0464495420455933,
          1.0171482563018799,
          1.0886454582214355,
          1.065748691558838,
          1.0444939136505127,
          1.0523731708526611,
          0.9713085293769836,
          0.8418043851852417,
          0.9623474478721619,
          0.9602651596069336,
          1.0716601610183716,
          1.0076240301132202,
          1.007495641708374,
          0.8767893314361572,
          0.8307021856307983,
          0.8609849810600281,
          0.9038477540016174,
          0.7939742803573608,
          0.8608567118644714,
          0.984944760799408,
          0.8138545751571655,
          0.8307365775108337,
          0.9307222962379456,
          0.8999171853065491,
          0.9785344004631042,
          0.8780021071434021,
          0.9892675876617432,
          1.0179634094238281,
          0.9735303521156311,
          0.8992096185684204,
          1.0425423383712769,
          0.9555558562278748,
          1.040686011314392,
          0.9751697778701782,
          1.0881606340408325,
          1.1109082698822021,
          1.0586268901824951,
          1.0417041778564453,
          1.0277113914489746,
          1.120930790901184,
          1.041879415512085,
          1.1263377666473389,
          0.9880145788192749,
          1.012466549873352,
          0.935545027256012,
          0.8729384541511536,
          0.8380260467529297,
          0.853855311870575,
          1.0997192859649658,
          0.9894001483917236,
          0.8698973655700684,
          0.9908182621002197,
          0.9072552919387817,
          0.8281896114349365,
          0.9504807591438293,
          0.9506123065948486,
          0.8774569630622864,
          0.8097032308578491,
          0.8785861134529114,
          0.8624431490898132,
          0.8533211350440979,
          0.8565205931663513,
          0.816243588924408,
          0.9527723789215088,
          0.9269106984138489,
          0.8670104146003723,
          0.9032717347145081
         ]
        }
       ],
       "layout": {
        "coloraxis": {
         "colorbar": {
          "title": {
           "text": "color"
          }
         },
         "colorscale": [
          [
           0,
           "#0d0887"
          ],
          [
           0.1111111111111111,
           "#46039f"
          ],
          [
           0.2222222222222222,
           "#7201a8"
          ],
          [
           0.3333333333333333,
           "#9c179e"
          ],
          [
           0.4444444444444444,
           "#bd3786"
          ],
          [
           0.5555555555555556,
           "#d8576b"
          ],
          [
           0.6666666666666666,
           "#ed7953"
          ],
          [
           0.7777777777777778,
           "#fb9f3a"
          ],
          [
           0.8888888888888888,
           "#fdca26"
          ],
          [
           1,
           "#f0f921"
          ]
         ]
        },
        "legend": {
         "tracegroupgap": 0
        },
        "margin": {
         "t": 60
        },
        "scene": {
         "domain": {
          "x": [
           0,
           1
          ],
          "y": [
           0,
           1
          ]
         },
         "xaxis": {
          "title": {
           "text": "0"
          }
         },
         "yaxis": {
          "title": {
           "text": "1"
          }
         },
         "zaxis": {
          "title": {
           "text": "2"
          }
         }
        },
        "template": {
         "data": {
          "bar": [
           {
            "error_x": {
             "color": "#2a3f5f"
            },
            "error_y": {
             "color": "#2a3f5f"
            },
            "marker": {
             "line": {
              "color": "#E5ECF6",
              "width": 0.5
             },
             "pattern": {
              "fillmode": "overlay",
              "size": 10,
              "solidity": 0.2
             }
            },
            "type": "bar"
           }
          ],
          "barpolar": [
           {
            "marker": {
             "line": {
              "color": "#E5ECF6",
              "width": 0.5
             },
             "pattern": {
              "fillmode": "overlay",
              "size": 10,
              "solidity": 0.2
             }
            },
            "type": "barpolar"
           }
          ],
          "carpet": [
           {
            "aaxis": {
             "endlinecolor": "#2a3f5f",
             "gridcolor": "white",
             "linecolor": "white",
             "minorgridcolor": "white",
             "startlinecolor": "#2a3f5f"
            },
            "baxis": {
             "endlinecolor": "#2a3f5f",
             "gridcolor": "white",
             "linecolor": "white",
             "minorgridcolor": "white",
             "startlinecolor": "#2a3f5f"
            },
            "type": "carpet"
           }
          ],
          "choropleth": [
           {
            "colorbar": {
             "outlinewidth": 0,
             "ticks": ""
            },
            "type": "choropleth"
           }
          ],
          "contour": [
           {
            "colorbar": {
             "outlinewidth": 0,
             "ticks": ""
            },
            "colorscale": [
             [
              0,
              "#0d0887"
             ],
             [
              0.1111111111111111,
              "#46039f"
             ],
             [
              0.2222222222222222,
              "#7201a8"
             ],
             [
              0.3333333333333333,
              "#9c179e"
             ],
             [
              0.4444444444444444,
              "#bd3786"
             ],
             [
              0.5555555555555556,
              "#d8576b"
             ],
             [
              0.6666666666666666,
              "#ed7953"
             ],
             [
              0.7777777777777778,
              "#fb9f3a"
             ],
             [
              0.8888888888888888,
              "#fdca26"
             ],
             [
              1,
              "#f0f921"
             ]
            ],
            "type": "contour"
           }
          ],
          "contourcarpet": [
           {
            "colorbar": {
             "outlinewidth": 0,
             "ticks": ""
            },
            "type": "contourcarpet"
           }
          ],
          "heatmap": [
           {
            "colorbar": {
             "outlinewidth": 0,
             "ticks": ""
            },
            "colorscale": [
             [
              0,
              "#0d0887"
             ],
             [
              0.1111111111111111,
              "#46039f"
             ],
             [
              0.2222222222222222,
              "#7201a8"
             ],
             [
              0.3333333333333333,
              "#9c179e"
             ],
             [
              0.4444444444444444,
              "#bd3786"
             ],
             [
              0.5555555555555556,
              "#d8576b"
             ],
             [
              0.6666666666666666,
              "#ed7953"
             ],
             [
              0.7777777777777778,
              "#fb9f3a"
             ],
             [
              0.8888888888888888,
              "#fdca26"
             ],
             [
              1,
              "#f0f921"
             ]
            ],
            "type": "heatmap"
           }
          ],
          "heatmapgl": [
           {
            "colorbar": {
             "outlinewidth": 0,
             "ticks": ""
            },
            "colorscale": [
             [
              0,
              "#0d0887"
             ],
             [
              0.1111111111111111,
              "#46039f"
             ],
             [
              0.2222222222222222,
              "#7201a8"
             ],
             [
              0.3333333333333333,
              "#9c179e"
             ],
             [
              0.4444444444444444,
              "#bd3786"
             ],
             [
              0.5555555555555556,
              "#d8576b"
             ],
             [
              0.6666666666666666,
              "#ed7953"
             ],
             [
              0.7777777777777778,
              "#fb9f3a"
             ],
             [
              0.8888888888888888,
              "#fdca26"
             ],
             [
              1,
              "#f0f921"
             ]
            ],
            "type": "heatmapgl"
           }
          ],
          "histogram": [
           {
            "marker": {
             "pattern": {
              "fillmode": "overlay",
              "size": 10,
              "solidity": 0.2
             }
            },
            "type": "histogram"
           }
          ],
          "histogram2d": [
           {
            "colorbar": {
             "outlinewidth": 0,
             "ticks": ""
            },
            "colorscale": [
             [
              0,
              "#0d0887"
             ],
             [
              0.1111111111111111,
              "#46039f"
             ],
             [
              0.2222222222222222,
              "#7201a8"
             ],
             [
              0.3333333333333333,
              "#9c179e"
             ],
             [
              0.4444444444444444,
              "#bd3786"
             ],
             [
              0.5555555555555556,
              "#d8576b"
             ],
             [
              0.6666666666666666,
              "#ed7953"
             ],
             [
              0.7777777777777778,
              "#fb9f3a"
             ],
             [
              0.8888888888888888,
              "#fdca26"
             ],
             [
              1,
              "#f0f921"
             ]
            ],
            "type": "histogram2d"
           }
          ],
          "histogram2dcontour": [
           {
            "colorbar": {
             "outlinewidth": 0,
             "ticks": ""
            },
            "colorscale": [
             [
              0,
              "#0d0887"
             ],
             [
              0.1111111111111111,
              "#46039f"
             ],
             [
              0.2222222222222222,
              "#7201a8"
             ],
             [
              0.3333333333333333,
              "#9c179e"
             ],
             [
              0.4444444444444444,
              "#bd3786"
             ],
             [
              0.5555555555555556,
              "#d8576b"
             ],
             [
              0.6666666666666666,
              "#ed7953"
             ],
             [
              0.7777777777777778,
              "#fb9f3a"
             ],
             [
              0.8888888888888888,
              "#fdca26"
             ],
             [
              1,
              "#f0f921"
             ]
            ],
            "type": "histogram2dcontour"
           }
          ],
          "mesh3d": [
           {
            "colorbar": {
             "outlinewidth": 0,
             "ticks": ""
            },
            "type": "mesh3d"
           }
          ],
          "parcoords": [
           {
            "line": {
             "colorbar": {
              "outlinewidth": 0,
              "ticks": ""
             }
            },
            "type": "parcoords"
           }
          ],
          "pie": [
           {
            "automargin": true,
            "type": "pie"
           }
          ],
          "scatter": [
           {
            "fillpattern": {
             "fillmode": "overlay",
             "size": 10,
             "solidity": 0.2
            },
            "type": "scatter"
           }
          ],
          "scatter3d": [
           {
            "line": {
             "colorbar": {
              "outlinewidth": 0,
              "ticks": ""
             }
            },
            "marker": {
             "colorbar": {
              "outlinewidth": 0,
              "ticks": ""
             }
            },
            "type": "scatter3d"
           }
          ],
          "scattercarpet": [
           {
            "marker": {
             "colorbar": {
              "outlinewidth": 0,
              "ticks": ""
             }
            },
            "type": "scattercarpet"
           }
          ],
          "scattergeo": [
           {
            "marker": {
             "colorbar": {
              "outlinewidth": 0,
              "ticks": ""
             }
            },
            "type": "scattergeo"
           }
          ],
          "scattergl": [
           {
            "marker": {
             "colorbar": {
              "outlinewidth": 0,
              "ticks": ""
             }
            },
            "type": "scattergl"
           }
          ],
          "scattermapbox": [
           {
            "marker": {
             "colorbar": {
              "outlinewidth": 0,
              "ticks": ""
             }
            },
            "type": "scattermapbox"
           }
          ],
          "scatterpolar": [
           {
            "marker": {
             "colorbar": {
              "outlinewidth": 0,
              "ticks": ""
             }
            },
            "type": "scatterpolar"
           }
          ],
          "scatterpolargl": [
           {
            "marker": {
             "colorbar": {
              "outlinewidth": 0,
              "ticks": ""
             }
            },
            "type": "scatterpolargl"
           }
          ],
          "scatterternary": [
           {
            "marker": {
             "colorbar": {
              "outlinewidth": 0,
              "ticks": ""
             }
            },
            "type": "scatterternary"
           }
          ],
          "surface": [
           {
            "colorbar": {
             "outlinewidth": 0,
             "ticks": ""
            },
            "colorscale": [
             [
              0,
              "#0d0887"
             ],
             [
              0.1111111111111111,
              "#46039f"
             ],
             [
              0.2222222222222222,
              "#7201a8"
             ],
             [
              0.3333333333333333,
              "#9c179e"
             ],
             [
              0.4444444444444444,
              "#bd3786"
             ],
             [
              0.5555555555555556,
              "#d8576b"
             ],
             [
              0.6666666666666666,
              "#ed7953"
             ],
             [
              0.7777777777777778,
              "#fb9f3a"
             ],
             [
              0.8888888888888888,
              "#fdca26"
             ],
             [
              1,
              "#f0f921"
             ]
            ],
            "type": "surface"
           }
          ],
          "table": [
           {
            "cells": {
             "fill": {
              "color": "#EBF0F8"
             },
             "line": {
              "color": "white"
             }
            },
            "header": {
             "fill": {
              "color": "#C8D4E3"
             },
             "line": {
              "color": "white"
             }
            },
            "type": "table"
           }
          ]
         },
         "layout": {
          "annotationdefaults": {
           "arrowcolor": "#2a3f5f",
           "arrowhead": 0,
           "arrowwidth": 1
          },
          "autotypenumbers": "strict",
          "coloraxis": {
           "colorbar": {
            "outlinewidth": 0,
            "ticks": ""
           }
          },
          "colorscale": {
           "diverging": [
            [
             0,
             "#8e0152"
            ],
            [
             0.1,
             "#c51b7d"
            ],
            [
             0.2,
             "#de77ae"
            ],
            [
             0.3,
             "#f1b6da"
            ],
            [
             0.4,
             "#fde0ef"
            ],
            [
             0.5,
             "#f7f7f7"
            ],
            [
             0.6,
             "#e6f5d0"
            ],
            [
             0.7,
             "#b8e186"
            ],
            [
             0.8,
             "#7fbc41"
            ],
            [
             0.9,
             "#4d9221"
            ],
            [
             1,
             "#276419"
            ]
           ],
           "sequential": [
            [
             0,
             "#0d0887"
            ],
            [
             0.1111111111111111,
             "#46039f"
            ],
            [
             0.2222222222222222,
             "#7201a8"
            ],
            [
             0.3333333333333333,
             "#9c179e"
            ],
            [
             0.4444444444444444,
             "#bd3786"
            ],
            [
             0.5555555555555556,
             "#d8576b"
            ],
            [
             0.6666666666666666,
             "#ed7953"
            ],
            [
             0.7777777777777778,
             "#fb9f3a"
            ],
            [
             0.8888888888888888,
             "#fdca26"
            ],
            [
             1,
             "#f0f921"
            ]
           ],
           "sequentialminus": [
            [
             0,
             "#0d0887"
            ],
            [
             0.1111111111111111,
             "#46039f"
            ],
            [
             0.2222222222222222,
             "#7201a8"
            ],
            [
             0.3333333333333333,
             "#9c179e"
            ],
            [
             0.4444444444444444,
             "#bd3786"
            ],
            [
             0.5555555555555556,
             "#d8576b"
            ],
            [
             0.6666666666666666,
             "#ed7953"
            ],
            [
             0.7777777777777778,
             "#fb9f3a"
            ],
            [
             0.8888888888888888,
             "#fdca26"
            ],
            [
             1,
             "#f0f921"
            ]
           ]
          },
          "colorway": [
           "#636efa",
           "#EF553B",
           "#00cc96",
           "#ab63fa",
           "#FFA15A",
           "#19d3f3",
           "#FF6692",
           "#B6E880",
           "#FF97FF",
           "#FECB52"
          ],
          "font": {
           "color": "#2a3f5f"
          },
          "geo": {
           "bgcolor": "white",
           "lakecolor": "white",
           "landcolor": "#E5ECF6",
           "showlakes": true,
           "showland": true,
           "subunitcolor": "white"
          },
          "hoverlabel": {
           "align": "left"
          },
          "hovermode": "closest",
          "mapbox": {
           "style": "light"
          },
          "paper_bgcolor": "white",
          "plot_bgcolor": "#E5ECF6",
          "polar": {
           "angularaxis": {
            "gridcolor": "white",
            "linecolor": "white",
            "ticks": ""
           },
           "bgcolor": "#E5ECF6",
           "radialaxis": {
            "gridcolor": "white",
            "linecolor": "white",
            "ticks": ""
           }
          },
          "scene": {
           "xaxis": {
            "backgroundcolor": "#E5ECF6",
            "gridcolor": "white",
            "gridwidth": 2,
            "linecolor": "white",
            "showbackground": true,
            "ticks": "",
            "zerolinecolor": "white"
           },
           "yaxis": {
            "backgroundcolor": "#E5ECF6",
            "gridcolor": "white",
            "gridwidth": 2,
            "linecolor": "white",
            "showbackground": true,
            "ticks": "",
            "zerolinecolor": "white"
           },
           "zaxis": {
            "backgroundcolor": "#E5ECF6",
            "gridcolor": "white",
            "gridwidth": 2,
            "linecolor": "white",
            "showbackground": true,
            "ticks": "",
            "zerolinecolor": "white"
           }
          },
          "shapedefaults": {
           "line": {
            "color": "#2a3f5f"
           }
          },
          "ternary": {
           "aaxis": {
            "gridcolor": "white",
            "linecolor": "white",
            "ticks": ""
           },
           "baxis": {
            "gridcolor": "white",
            "linecolor": "white",
            "ticks": ""
           },
           "bgcolor": "#E5ECF6",
           "caxis": {
            "gridcolor": "white",
            "linecolor": "white",
            "ticks": ""
           }
          },
          "title": {
           "x": 0.05
          },
          "xaxis": {
           "automargin": true,
           "gridcolor": "white",
           "linecolor": "white",
           "ticks": "",
           "title": {
            "standoff": 15
           },
           "zerolinecolor": "white",
           "zerolinewidth": 2
          },
          "yaxis": {
           "automargin": true,
           "gridcolor": "white",
           "linecolor": "white",
           "ticks": "",
           "title": {
            "standoff": 15
           },
           "zerolinecolor": "white",
           "zerolinewidth": 2
          }
         }
        }
       }
      }
     },
     "metadata": {},
     "output_type": "display_data"
    }
   ],
   "source": [
    "# Plot in 3D the distance of each question to the center of the first 3 clusters\n",
    "import plotly.express as px\n",
    "import numpy as np\n",
    "\n",
    "distances = np.zeros((len(questions), NUM_CLUSTERS))\n",
    "for i in range(NUM_CLUSTERS):\n",
    "    center = kmeans.cluster_centers_[i]\n",
    "    distances[:, i] = np.linalg.norm(embeddings - center, axis=1)\n",
    "\n",
    "fig = px.scatter_3d(distances, x=0, y=1, z=2, color=kmeans.labels_)\n",
    "fig.show()"
   ]
  },
  {
   "cell_type": "code",
   "execution_count": 70,
   "metadata": {},
   "outputs": [
    {
     "data": {
      "application/vnd.plotly.v1+json": {
       "config": {
        "plotlyServerURL": "https://plot.ly"
       },
       "data": [
        {
         "customdata": [
          [
           "Why have we not encountered extraterrestrial life yet?"
          ],
          [
           "Do you have an internal monologue?"
          ],
          [
           "If aliens landed on Earth, what would they be impressed by?"
          ],
          [
           "If aliens landed on Earth, what would they find most bizarre?"
          ],
          [
           "If you could change one thing instantly, what would make you happy?"
          ],
          [
           "What book, podcast or movie had a major impact on you?"
          ],
          [
           "What brings you joy in a typical day?"
          ],
          [
           "What do you discuss with your (grand)parents during a family dinner?"
          ],
          [
           "What does a perfect day look like for you?"
          ],
          [
           "What does your ideal evening look like?"
          ],
          [
           "What irritates you?"
          ],
          [
           "What is a gift that brought you joy? Why ?"
          ],
          [
           "What is one childhood memories you hold dear?"
          ],
          [
           "What is one of your dreams?"
          ],
          [
           "What is one of your most memorable evenings? Why ?"
          ],
          [
           "What keeps you up at night?"
          ],
          [
           "What kind of adventures do you prefer? People, places, cultures, knowledge, something else?"
          ],
          [
           "What major change have you experienced in the last 12 months?"
          ],
          [
           "What makes you angry?"
          ],
          [
           "What makes you like or dislike a person?"
          ],
          [
           "What makes you want to fight?"
          ],
          [
           "What motivates you to do what you do?"
          ],
          [
           "What place makes you nostalgic?"
          ],
          [
           "What product still gives you happiness, long after the feeling of novelty has passed?"
          ],
          [
           "What qualities do your parents find in you? (friends ?)"
          ],
          [
           "When's the last time you did something for the first time?"
          ],
          [
           "Where do you wish you stayed longer?"
          ],
          [
           "Would you rather have a perfect memory, or only need to sleep two hours a day?"
          ],
          [
           "When did you come closest to death?"
          ],
          [
           "If in the future you had to replace a part of your body with a prosthesis, what part would it be?"
          ],
          [
           "If you could have a drink with anyone in the world, who would it be?"
          ],
          [
           "What are maximaly interesting questions?"
          ],
          [
           "What book, podcast or movie do you recommend without restraint?"
          ],
          [
           "What brings you a most sense of wonder in the natural world?"
          ],
          [
           "What is a cause close to your heart and why?"
          ],
          [
           "What’s a place you like in your hometown?"
          ],
          [
           "What major change do you anticipate for next year?"
          ],
          [
           "Do you wish to have children?"
          ],
          [
           "How are you different to a typical person?"
          ],
          [
           "How do you manage to let go and forget your responsibilities for a moment?"
          ],
          [
           "How much would you sell your soul for?"
          ],
          [
           "If you find that mathematics are incoherent, how would you react?"
          ],
          [
           "If you weren't to be a human, what would you be?"
          ],
          [
           "In which country would you like to live?"
          ],
          [
           "Is there something you think and would like to act upon?"
          ],
          [
           "What are you very grateful to your parents for?"
          ],
          [
           "What brings you sadness on a typical day?"
          ],
          [
           "What could your parents have done better for you?"
          ],
          [
           "What did the 10-year-old-you give to the 20-year-old-you?"
          ],
          [
           "What do you want to improve on in the near future?"
          ],
          [
           "What event from your childhood had the most impact on what you do today?"
          ],
          [
           "What have you wanted to do for a long time but don't? Why?"
          ],
          [
           "What is one of the riskiest actions you have taken?"
          ],
          [
           "What makes you get up in the morning?"
          ],
          [
           "What music makes you cry?"
          ],
          [
           "What would the 10-year-old-you say about your life now?"
          ],
          [
           "When have you done something brave?"
          ],
          [
           "Which activities makes you the most energised?"
          ],
          [
           "What is your relationship with your parents?"
          ],
          [
           "How do your friends describe you?"
          ],
          [
           "What is one of your greatest achievements? One thing you're proud of about yourself?"
          ],
          [
           "If you could spend a night under the stars with anyone in the world, who would it be?"
          ],
          [
           "Should we ban or severely limit television?"
          ],
          [
           "Should we block roads to force politicians to act for the climate?"
          ],
          [
           "What are the most important qualities for you in a romantic partner?"
          ],
          [
           "What are the most important qualities in a friend for you?"
          ],
          [
           "What is something scientific that you admire?"
          ],
          [
           "What's one of humanity's most significant achievement so far?"
          ],
          [
           "What’s your relationship with religion?"
          ],
          [
           "Where does beauty comes from?"
          ],
          [
           "Do animals have the right to equal treatment?"
          ],
          [
           "How can we save the world?"
          ],
          [
           "How could we make the internet profitable without selling data?"
          ],
          [
           "How do you solve Pascal's Mugging?"
          ],
          [
           "How long will there be humans on Earth?"
          ],
          [
           "Is violence justified to push a greater cause?"
          ],
          [
           "What are the arguments against utilitarianism?"
          ],
          [
           "What brings great discussion?"
          ],
          [
           "Are you more optimistic or pessimistic about the future?"
          ],
          [
           "How are you going to die?"
          ],
          [
           "How many boxes do you open in the Newcomb’s problem?"
          ],
          [
           "How would your life change if you had a universal basic income of 1000$ per month?"
          ],
          [
           "If you had a billion dollars, what would you do?"
          ],
          [
           "If you had to start your life over with some advice, what would it be?"
          ],
          [
           "What are you looking for in a discussion?"
          ],
          [
           "What are you struggling with? "
          ],
          [
           "What do you think is your best achievement?"
          ],
          [
           "What question could someone ask to learn the most about you?"
          ],
          [
           "What's your part of light? What's your part of darkness?"
          ],
          [
           "If you stopped your studies today, what would you do?"
          ],
          [
           "What are you afraid of?"
          ],
          [
           "What are you looking for in a romantic relationship?"
          ],
          [
           "What holds (held) you back from being vegan?"
          ],
          [
           "What is an action that you regret?"
          ],
          [
           "What should happen for you to change your mind about the existence of God?"
          ],
          [
           "Which achievment do you value a lot, but isn’t much considered by others"
          ],
          [
           "Would you go in the happiness machine?"
          ],
          [
           "If someone suffers far, does it mean that we should care less?"
          ],
          [
           "If you could change any part of the world with a magic wand, what would you do?"
          ],
          [
           "If you could know one thing about the future, what would it be?"
          ],
          [
           "If you thought unaligned AGI would be created in 10 years, what would you do? "
          ],
          [
           "If you were dictator of the world, what is the first measure you would put in place?"
          ],
          [
           "Is sobriety the solution to our environmental problems?"
          ],
          [
           "Is there a way in which you would like the world to be better?"
          ],
          [
           "Should we ban abortion?"
          ],
          [
           "Should we ban the majority of advertisements?"
          ],
          [
           "What does the world of 2050 look like with net-zero carbon emissions?"
          ],
          [
           "What is missing from the current education system?"
          ],
          [
           "Would you go into a teleporter?"
          ],
          [
           "Can we take the plane if we compensate our CO2 emissions?"
          ],
          [
           "Do insects suffer?"
          ],
          [
           "Should we have the same regulatory system for AIs as for drugs? And for technology in general?"
          ],
          [
           "What is gender?"
          ],
          [
           "What would humans do if they no longer needed to work?"
          ],
          [
           "Do you think that identity exists, or is it just a feeling arising to make our personal history coherent?"
          ],
          [
           "What do other people think is your best achievement?"
          ],
          [
           "What questions do you like to ask to better understand another person? Why?"
          ],
          [
           "What's your feeling right now?"
          ],
          [
           "Should we get out of capitalism?"
          ],
          [
           "What does a world with digital minds look like?"
          ],
          [
           "What is the greatest threat to humanity in your field of expertise?"
          ],
          [
           "You discover a gene that's 90% correlated with homicide. What do you decide to do?"
          ],
          [
           "If you had to give up hugs or sex, which one would you choose? "
          ],
          [
           "Are you wondering how one of your physical traits is perceived?"
          ],
          [
           "Could you have a polyamorous relationship?"
          ],
          [
           "Have you ever fallen in love?"
          ],
          [
           "Is there something you never said to anybody?"
          ],
          [
           "What are you afraid others might judge you about? "
          ],
          [
           "What is one mistake you’ve encountered in a romantic relationship that you learned from and want to share?"
          ],
          [
           "What is one of your deepest moments of sadness/happiness?"
          ],
          [
           "What is something you are not proud of? "
          ],
          [
           "What makes it hard for you to be vulnerable? "
          ],
          [
           "What makes you sad about your interaction with other humans? "
          ],
          [
           "When was the last time you cried? (and that you are okay to share)"
          ],
          [
           "Why are you monogamous?"
          ],
          [
           "What are the low confidence hypotheses you make about me?"
          ],
          [
           "What is something surprinsing in your field of expertise?"
          ]
         ],
         "hovertemplate": "0=%{x}<br>1=%{y}<br>question=%{customdata[0]}<br>color=%{marker.color}<extra></extra>",
         "legendgroup": "",
         "marker": {
          "color": [
           0,
           1,
           0,
           0,
           1,
           1,
           1,
           2,
           2,
           2,
           2,
           1,
           1,
           1,
           1,
           2,
           1,
           2,
           2,
           2,
           2,
           1,
           1,
           1,
           2,
           1,
           1,
           0,
           1,
           0,
           0,
           2,
           1,
           2,
           2,
           2,
           0,
           0,
           2,
           1,
           0,
           0,
           0,
           0,
           2,
           1,
           1,
           1,
           1,
           0,
           1,
           1,
           1,
           2,
           1,
           1,
           1,
           1,
           2,
           2,
           1,
           0,
           3,
           3,
           2,
           2,
           2,
           1,
           2,
           2,
           3,
           3,
           3,
           0,
           0,
           3,
           3,
           2,
           0,
           0,
           0,
           0,
           0,
           1,
           2,
           2,
           1,
           2,
           2,
           0,
           2,
           2,
           2,
           1,
           0,
           2,
           0,
           3,
           0,
           0,
           0,
           0,
           3,
           0,
           3,
           3,
           0,
           0,
           0,
           3,
           3,
           3,
           2,
           0,
           2,
           1,
           2,
           2,
           3,
           0,
           0,
           0,
           2,
           2,
           2,
           2,
           2,
           2,
           2,
           1,
           1,
           2,
           2,
           1,
           2,
           2,
           2
          ],
          "coloraxis": "coloraxis",
          "symbol": "circle"
         },
         "mode": "markers",
         "name": "",
         "orientation": "v",
         "showlegend": false,
         "type": "scatter",
         "x": [
          0.30164235830307007,
          -0.053567394614219666,
          0.13184595108032227,
          0.08710628002882004,
          -0.1383536458015442,
          -0.1355382204055786,
          -0.3456061780452728,
          -0.20458047091960907,
          -0.23516198992729187,
          -0.1833537220954895,
          -0.10128895938396454,
          -0.3548889756202698,
          -0.41953372955322266,
          -0.16446101665496826,
          -0.37920844554901123,
          -0.14331698417663574,
          0.008487192913889885,
          -0.02212674170732498,
          -0.1212581917643547,
          -0.22968167066574097,
          -0.10535743832588196,
          -0.17119787633419037,
          -0.26255473494529724,
          -0.15777596831321716,
          -0.3462982177734375,
          -0.2319512516260147,
          -0.10702449083328247,
          0.09488334506750107,
          -0.13355150818824768,
          0.14563316106796265,
          0.022358600050210953,
          -0.024874359369277954,
          0.011970676481723785,
          -0.09641429036855698,
          -0.19908416271209717,
          -0.17183750867843628,
          0.14685243368148804,
          0.08523821085691452,
          -0.12310634553432465,
          -0.058779262006282806,
          0.08604726940393448,
          0.2710285782814026,
          0.03069160506129265,
          0.13944406807422638,
          0.07235623896121979,
          -0.28461986780166626,
          -0.4051061272621155,
          -0.19190077483654022,
          -0.16597682237625122,
          0.12397699803113937,
          -0.32631054520606995,
          -0.0057085417211055756,
          -0.08561393618583679,
          -0.17425395548343658,
          -0.23884208500385284,
          -0.0781780257821083,
          -0.19938291609287262,
          -0.1558188647031784,
          -0.2911912798881531,
          -0.2873765230178833,
          -0.35029125213623047,
          0.053215473890304565,
          0.4817269742488861,
          0.4970523416996002,
          -0.2097610980272293,
          -0.2418806254863739,
          -0.11591163277626038,
          -0.03887731954455376,
          -0.13202084600925446,
          -0.04317842423915863,
          0.31231558322906494,
          0.3818438649177551,
          0.3917912542819977,
          0.1718672215938568,
          0.39726993441581726,
          0.31484901905059814,
          0.21714432537555695,
          -0.021242957562208176,
          0.2088240087032318,
          0.08457398414611816,
          0.10004217177629471,
          0.2728632688522339,
          0.3398946225643158,
          -0.08683709055185318,
          0.12045926600694656,
          0.015542358160018921,
          -0.284385085105896,
          -0.19180980324745178,
          -0.10600578039884567,
          0.15284526348114014,
          -0.05059101805090904,
          -0.15168234705924988,
          0.020783452317118645,
          -0.13970817625522614,
          0.2712292969226837,
          -0.007391531020402908,
          0.1224290281534195,
          0.20240430533885956,
          0.21889960765838623,
          0.11392197757959366,
          0.3781060576438904,
          0.19463352859020233,
          0.3673055171966553,
          0.2457977831363678,
          0.4835512638092041,
          0.4847972095012665,
          0.4470541775226593,
          0.2586131989955902,
          0.2547372877597809,
          0.49023932218551636,
          0.1803947538137436,
          0.5510045289993286,
          0.11323697119951248,
          0.38952845335006714,
          -0.02008480206131935,
          -0.31714069843292236,
          -0.12077315151691437,
          -0.16597238183021545,
          0.5692043304443359,
          0.2711847424507141,
          0.15435630083084106,
          0.2837802767753601,
          -0.11549821496009827,
          -0.14011721312999725,
          0.05432077497243881,
          -0.16774478554725647,
          -0.17689149081707,
          -0.10589386522769928,
          -0.23203295469284058,
          -0.47496962547302246,
          -0.26483097672462463,
          -0.08901779353618622,
          -0.11088846623897552,
          -0.34898507595062256,
          -0.030544979497790337,
          -0.08213493227958679,
          0.05191231891512871
         ],
         "xaxis": "x",
         "y": [
          0.10081334412097931,
          0.16296279430389404,
          -0.13993820548057556,
          -0.12328893691301346,
          -0.3286612033843994,
          -0.06914917379617691,
          -0.1784905195236206,
          0.16682128608226776,
          -0.021343164145946503,
          -0.03459060192108154,
          0.08740216493606567,
          -0.11923056095838547,
          -0.020659249275922775,
          -0.24652531743049622,
          -0.20453891158103943,
          -0.03364207595586777,
          -0.14792779088020325,
          -0.11271693557500839,
          0.08491821587085724,
          0.2902200222015381,
          0.09147429466247559,
          -0.11707580834627151,
          -0.1867869794368744,
          -0.17151904106140137,
          0.2933024764060974,
          -0.0536380372941494,
          -0.2736080288887024,
          -0.15469738841056824,
          -0.009674868546426296,
          -0.22730420529842377,
          -0.03703869506716728,
          0.07149100303649902,
          -0.0015868940390646458,
          -0.053297657519578934,
          0.23029232025146484,
          -0.05192926526069641,
          -0.27647528052330017,
          0.060350190848112106,
          0.2372826486825943,
          -0.059659045189619064,
          -0.06650549918413162,
          0.09942768514156342,
          -0.12704071402549744,
          -0.18061470985412598,
          0.15715648233890533,
          -0.12068246304988861,
          -0.11065869778394699,
          -0.09835746884346008,
          -0.05806427448987961,
          -0.26682165265083313,
          -0.3212866485118866,
          -0.3093861937522888,
          -0.10723618417978287,
          -0.03459400311112404,
          0.03256068006157875,
          -0.2074313759803772,
          -0.03241054341197014,
          -0.2693204879760742,
          0.2554725110530853,
          0.33387285470962524,
          -0.2845490574836731,
          -0.04558546096086502,
          0.01490764319896698,
          0.11327190697193146,
          0.3771091103553772,
          0.3503093719482422,
          0.0370468869805336,
          -0.3017325699329376,
          0.2927810251712799,
          0.22745446860790253,
          0.305083692073822,
          -0.13379034399986267,
          -0.0755901038646698,
          0.08495178818702698,
          0.028222450986504555,
          0.2675946354866028,
          0.254478394985199,
          0.20919622480869293,
          -0.07785940170288086,
          -0.08341402560472488,
          0.06686392426490784,
          -0.312976211309433,
          -0.356514573097229,
          -0.17324919998645782,
          0.2749031186103821,
          0.10285040736198425,
          -0.35645607113838196,
          0.08666282892227173,
          0.03140633553266525,
          -0.4177420437335968,
          0.08516310155391693,
          0.3438892364501953,
          0.1432153731584549,
          -0.13029730319976807,
          -0.01266372948884964,
          0.08426345139741898,
          -0.13440214097499847,
          0.32546037435531616,
          -0.37016379833221436,
          -0.3039364218711853,
          -0.2151024043560028,
          -0.17611448466777802,
          0.10160084068775177,
          -0.12802833318710327,
          0.1654299646615982,
          0.10290798544883728,
          -0.06608439236879349,
          -0.04997987300157547,
          -0.06032029166817665,
          0.06428322941064835,
          0.25011149048805237,
          0.15026575326919556,
          0.20551738142967224,
          -0.28687119483947754,
          0.14878830313682556,
          -0.3165368437767029,
          0.3075163960456848,
          -0.06558191776275635,
          -0.01895536296069622,
          0.01474900171160698,
          -0.05348076671361923,
          0.12378514558076859,
          0.020906265825033188,
          0.33172857761383057,
          0.42578038573265076,
          0.25206583738327026,
          0.17321476340293884,
          0.24728277325630188,
          0.20439355075359344,
          -0.15757355093955994,
          -0.14867140352725983,
          0.22996431589126587,
          0.1265583634376526,
          0.06140834093093872,
          0.300139844417572,
          0.2135261744260788,
          -0.005204096436500549
         ],
         "yaxis": "y"
        },
        {
         "hoverinfo": "text",
         "marker": {
          "color": "black",
          "size": 10
         },
         "mode": "markers",
         "text": [
          0,
          1,
          2,
          3
         ],
         "type": "scatter",
         "x": [
          0.19590047001838684,
          -0.20370319485664368,
          -0.11104127764701843,
          0.39504164457321167
         ],
         "y": [
          -0.11588336527347565,
          -0.14691081643104553,
          0.15756000578403473,
          0.12580400705337524
         ]
        }
       ],
       "layout": {
        "coloraxis": {
         "colorbar": {
          "title": {
           "text": "color"
          }
         },
         "colorscale": [
          [
           0,
           "#0d0887"
          ],
          [
           0.1111111111111111,
           "#46039f"
          ],
          [
           0.2222222222222222,
           "#7201a8"
          ],
          [
           0.3333333333333333,
           "#9c179e"
          ],
          [
           0.4444444444444444,
           "#bd3786"
          ],
          [
           0.5555555555555556,
           "#d8576b"
          ],
          [
           0.6666666666666666,
           "#ed7953"
          ],
          [
           0.7777777777777778,
           "#fb9f3a"
          ],
          [
           0.8888888888888888,
           "#fdca26"
          ],
          [
           1,
           "#f0f921"
          ]
         ]
        },
        "legend": {
         "tracegroupgap": 0
        },
        "margin": {
         "t": 60
        },
        "template": {
         "data": {
          "bar": [
           {
            "error_x": {
             "color": "#2a3f5f"
            },
            "error_y": {
             "color": "#2a3f5f"
            },
            "marker": {
             "line": {
              "color": "#E5ECF6",
              "width": 0.5
             },
             "pattern": {
              "fillmode": "overlay",
              "size": 10,
              "solidity": 0.2
             }
            },
            "type": "bar"
           }
          ],
          "barpolar": [
           {
            "marker": {
             "line": {
              "color": "#E5ECF6",
              "width": 0.5
             },
             "pattern": {
              "fillmode": "overlay",
              "size": 10,
              "solidity": 0.2
             }
            },
            "type": "barpolar"
           }
          ],
          "carpet": [
           {
            "aaxis": {
             "endlinecolor": "#2a3f5f",
             "gridcolor": "white",
             "linecolor": "white",
             "minorgridcolor": "white",
             "startlinecolor": "#2a3f5f"
            },
            "baxis": {
             "endlinecolor": "#2a3f5f",
             "gridcolor": "white",
             "linecolor": "white",
             "minorgridcolor": "white",
             "startlinecolor": "#2a3f5f"
            },
            "type": "carpet"
           }
          ],
          "choropleth": [
           {
            "colorbar": {
             "outlinewidth": 0,
             "ticks": ""
            },
            "type": "choropleth"
           }
          ],
          "contour": [
           {
            "colorbar": {
             "outlinewidth": 0,
             "ticks": ""
            },
            "colorscale": [
             [
              0,
              "#0d0887"
             ],
             [
              0.1111111111111111,
              "#46039f"
             ],
             [
              0.2222222222222222,
              "#7201a8"
             ],
             [
              0.3333333333333333,
              "#9c179e"
             ],
             [
              0.4444444444444444,
              "#bd3786"
             ],
             [
              0.5555555555555556,
              "#d8576b"
             ],
             [
              0.6666666666666666,
              "#ed7953"
             ],
             [
              0.7777777777777778,
              "#fb9f3a"
             ],
             [
              0.8888888888888888,
              "#fdca26"
             ],
             [
              1,
              "#f0f921"
             ]
            ],
            "type": "contour"
           }
          ],
          "contourcarpet": [
           {
            "colorbar": {
             "outlinewidth": 0,
             "ticks": ""
            },
            "type": "contourcarpet"
           }
          ],
          "heatmap": [
           {
            "colorbar": {
             "outlinewidth": 0,
             "ticks": ""
            },
            "colorscale": [
             [
              0,
              "#0d0887"
             ],
             [
              0.1111111111111111,
              "#46039f"
             ],
             [
              0.2222222222222222,
              "#7201a8"
             ],
             [
              0.3333333333333333,
              "#9c179e"
             ],
             [
              0.4444444444444444,
              "#bd3786"
             ],
             [
              0.5555555555555556,
              "#d8576b"
             ],
             [
              0.6666666666666666,
              "#ed7953"
             ],
             [
              0.7777777777777778,
              "#fb9f3a"
             ],
             [
              0.8888888888888888,
              "#fdca26"
             ],
             [
              1,
              "#f0f921"
             ]
            ],
            "type": "heatmap"
           }
          ],
          "heatmapgl": [
           {
            "colorbar": {
             "outlinewidth": 0,
             "ticks": ""
            },
            "colorscale": [
             [
              0,
              "#0d0887"
             ],
             [
              0.1111111111111111,
              "#46039f"
             ],
             [
              0.2222222222222222,
              "#7201a8"
             ],
             [
              0.3333333333333333,
              "#9c179e"
             ],
             [
              0.4444444444444444,
              "#bd3786"
             ],
             [
              0.5555555555555556,
              "#d8576b"
             ],
             [
              0.6666666666666666,
              "#ed7953"
             ],
             [
              0.7777777777777778,
              "#fb9f3a"
             ],
             [
              0.8888888888888888,
              "#fdca26"
             ],
             [
              1,
              "#f0f921"
             ]
            ],
            "type": "heatmapgl"
           }
          ],
          "histogram": [
           {
            "marker": {
             "pattern": {
              "fillmode": "overlay",
              "size": 10,
              "solidity": 0.2
             }
            },
            "type": "histogram"
           }
          ],
          "histogram2d": [
           {
            "colorbar": {
             "outlinewidth": 0,
             "ticks": ""
            },
            "colorscale": [
             [
              0,
              "#0d0887"
             ],
             [
              0.1111111111111111,
              "#46039f"
             ],
             [
              0.2222222222222222,
              "#7201a8"
             ],
             [
              0.3333333333333333,
              "#9c179e"
             ],
             [
              0.4444444444444444,
              "#bd3786"
             ],
             [
              0.5555555555555556,
              "#d8576b"
             ],
             [
              0.6666666666666666,
              "#ed7953"
             ],
             [
              0.7777777777777778,
              "#fb9f3a"
             ],
             [
              0.8888888888888888,
              "#fdca26"
             ],
             [
              1,
              "#f0f921"
             ]
            ],
            "type": "histogram2d"
           }
          ],
          "histogram2dcontour": [
           {
            "colorbar": {
             "outlinewidth": 0,
             "ticks": ""
            },
            "colorscale": [
             [
              0,
              "#0d0887"
             ],
             [
              0.1111111111111111,
              "#46039f"
             ],
             [
              0.2222222222222222,
              "#7201a8"
             ],
             [
              0.3333333333333333,
              "#9c179e"
             ],
             [
              0.4444444444444444,
              "#bd3786"
             ],
             [
              0.5555555555555556,
              "#d8576b"
             ],
             [
              0.6666666666666666,
              "#ed7953"
             ],
             [
              0.7777777777777778,
              "#fb9f3a"
             ],
             [
              0.8888888888888888,
              "#fdca26"
             ],
             [
              1,
              "#f0f921"
             ]
            ],
            "type": "histogram2dcontour"
           }
          ],
          "mesh3d": [
           {
            "colorbar": {
             "outlinewidth": 0,
             "ticks": ""
            },
            "type": "mesh3d"
           }
          ],
          "parcoords": [
           {
            "line": {
             "colorbar": {
              "outlinewidth": 0,
              "ticks": ""
             }
            },
            "type": "parcoords"
           }
          ],
          "pie": [
           {
            "automargin": true,
            "type": "pie"
           }
          ],
          "scatter": [
           {
            "fillpattern": {
             "fillmode": "overlay",
             "size": 10,
             "solidity": 0.2
            },
            "type": "scatter"
           }
          ],
          "scatter3d": [
           {
            "line": {
             "colorbar": {
              "outlinewidth": 0,
              "ticks": ""
             }
            },
            "marker": {
             "colorbar": {
              "outlinewidth": 0,
              "ticks": ""
             }
            },
            "type": "scatter3d"
           }
          ],
          "scattercarpet": [
           {
            "marker": {
             "colorbar": {
              "outlinewidth": 0,
              "ticks": ""
             }
            },
            "type": "scattercarpet"
           }
          ],
          "scattergeo": [
           {
            "marker": {
             "colorbar": {
              "outlinewidth": 0,
              "ticks": ""
             }
            },
            "type": "scattergeo"
           }
          ],
          "scattergl": [
           {
            "marker": {
             "colorbar": {
              "outlinewidth": 0,
              "ticks": ""
             }
            },
            "type": "scattergl"
           }
          ],
          "scattermapbox": [
           {
            "marker": {
             "colorbar": {
              "outlinewidth": 0,
              "ticks": ""
             }
            },
            "type": "scattermapbox"
           }
          ],
          "scatterpolar": [
           {
            "marker": {
             "colorbar": {
              "outlinewidth": 0,
              "ticks": ""
             }
            },
            "type": "scatterpolar"
           }
          ],
          "scatterpolargl": [
           {
            "marker": {
             "colorbar": {
              "outlinewidth": 0,
              "ticks": ""
             }
            },
            "type": "scatterpolargl"
           }
          ],
          "scatterternary": [
           {
            "marker": {
             "colorbar": {
              "outlinewidth": 0,
              "ticks": ""
             }
            },
            "type": "scatterternary"
           }
          ],
          "surface": [
           {
            "colorbar": {
             "outlinewidth": 0,
             "ticks": ""
            },
            "colorscale": [
             [
              0,
              "#0d0887"
             ],
             [
              0.1111111111111111,
              "#46039f"
             ],
             [
              0.2222222222222222,
              "#7201a8"
             ],
             [
              0.3333333333333333,
              "#9c179e"
             ],
             [
              0.4444444444444444,
              "#bd3786"
             ],
             [
              0.5555555555555556,
              "#d8576b"
             ],
             [
              0.6666666666666666,
              "#ed7953"
             ],
             [
              0.7777777777777778,
              "#fb9f3a"
             ],
             [
              0.8888888888888888,
              "#fdca26"
             ],
             [
              1,
              "#f0f921"
             ]
            ],
            "type": "surface"
           }
          ],
          "table": [
           {
            "cells": {
             "fill": {
              "color": "#EBF0F8"
             },
             "line": {
              "color": "white"
             }
            },
            "header": {
             "fill": {
              "color": "#C8D4E3"
             },
             "line": {
              "color": "white"
             }
            },
            "type": "table"
           }
          ]
         },
         "layout": {
          "annotationdefaults": {
           "arrowcolor": "#2a3f5f",
           "arrowhead": 0,
           "arrowwidth": 1
          },
          "autotypenumbers": "strict",
          "coloraxis": {
           "colorbar": {
            "outlinewidth": 0,
            "ticks": ""
           }
          },
          "colorscale": {
           "diverging": [
            [
             0,
             "#8e0152"
            ],
            [
             0.1,
             "#c51b7d"
            ],
            [
             0.2,
             "#de77ae"
            ],
            [
             0.3,
             "#f1b6da"
            ],
            [
             0.4,
             "#fde0ef"
            ],
            [
             0.5,
             "#f7f7f7"
            ],
            [
             0.6,
             "#e6f5d0"
            ],
            [
             0.7,
             "#b8e186"
            ],
            [
             0.8,
             "#7fbc41"
            ],
            [
             0.9,
             "#4d9221"
            ],
            [
             1,
             "#276419"
            ]
           ],
           "sequential": [
            [
             0,
             "#0d0887"
            ],
            [
             0.1111111111111111,
             "#46039f"
            ],
            [
             0.2222222222222222,
             "#7201a8"
            ],
            [
             0.3333333333333333,
             "#9c179e"
            ],
            [
             0.4444444444444444,
             "#bd3786"
            ],
            [
             0.5555555555555556,
             "#d8576b"
            ],
            [
             0.6666666666666666,
             "#ed7953"
            ],
            [
             0.7777777777777778,
             "#fb9f3a"
            ],
            [
             0.8888888888888888,
             "#fdca26"
            ],
            [
             1,
             "#f0f921"
            ]
           ],
           "sequentialminus": [
            [
             0,
             "#0d0887"
            ],
            [
             0.1111111111111111,
             "#46039f"
            ],
            [
             0.2222222222222222,
             "#7201a8"
            ],
            [
             0.3333333333333333,
             "#9c179e"
            ],
            [
             0.4444444444444444,
             "#bd3786"
            ],
            [
             0.5555555555555556,
             "#d8576b"
            ],
            [
             0.6666666666666666,
             "#ed7953"
            ],
            [
             0.7777777777777778,
             "#fb9f3a"
            ],
            [
             0.8888888888888888,
             "#fdca26"
            ],
            [
             1,
             "#f0f921"
            ]
           ]
          },
          "colorway": [
           "#636efa",
           "#EF553B",
           "#00cc96",
           "#ab63fa",
           "#FFA15A",
           "#19d3f3",
           "#FF6692",
           "#B6E880",
           "#FF97FF",
           "#FECB52"
          ],
          "font": {
           "color": "#2a3f5f"
          },
          "geo": {
           "bgcolor": "white",
           "lakecolor": "white",
           "landcolor": "#E5ECF6",
           "showlakes": true,
           "showland": true,
           "subunitcolor": "white"
          },
          "hoverlabel": {
           "align": "left"
          },
          "hovermode": "closest",
          "mapbox": {
           "style": "light"
          },
          "paper_bgcolor": "white",
          "plot_bgcolor": "#E5ECF6",
          "polar": {
           "angularaxis": {
            "gridcolor": "white",
            "linecolor": "white",
            "ticks": ""
           },
           "bgcolor": "#E5ECF6",
           "radialaxis": {
            "gridcolor": "white",
            "linecolor": "white",
            "ticks": ""
           }
          },
          "scene": {
           "xaxis": {
            "backgroundcolor": "#E5ECF6",
            "gridcolor": "white",
            "gridwidth": 2,
            "linecolor": "white",
            "showbackground": true,
            "ticks": "",
            "zerolinecolor": "white"
           },
           "yaxis": {
            "backgroundcolor": "#E5ECF6",
            "gridcolor": "white",
            "gridwidth": 2,
            "linecolor": "white",
            "showbackground": true,
            "ticks": "",
            "zerolinecolor": "white"
           },
           "zaxis": {
            "backgroundcolor": "#E5ECF6",
            "gridcolor": "white",
            "gridwidth": 2,
            "linecolor": "white",
            "showbackground": true,
            "ticks": "",
            "zerolinecolor": "white"
           }
          },
          "shapedefaults": {
           "line": {
            "color": "#2a3f5f"
           }
          },
          "ternary": {
           "aaxis": {
            "gridcolor": "white",
            "linecolor": "white",
            "ticks": ""
           },
           "baxis": {
            "gridcolor": "white",
            "linecolor": "white",
            "ticks": ""
           },
           "bgcolor": "#E5ECF6",
           "caxis": {
            "gridcolor": "white",
            "linecolor": "white",
            "ticks": ""
           }
          },
          "title": {
           "x": 0.05
          },
          "xaxis": {
           "automargin": true,
           "gridcolor": "white",
           "linecolor": "white",
           "ticks": "",
           "title": {
            "standoff": 15
           },
           "zerolinecolor": "white",
           "zerolinewidth": 2
          },
          "yaxis": {
           "automargin": true,
           "gridcolor": "white",
           "linecolor": "white",
           "ticks": "",
           "title": {
            "standoff": 15
           },
           "zerolinecolor": "white",
           "zerolinewidth": 2
          }
         }
        },
        "xaxis": {
         "anchor": "y",
         "domain": [
          0,
          1
         ],
         "title": {
          "text": "0"
         }
        },
        "yaxis": {
         "anchor": "x",
         "domain": [
          0,
          1
         ],
         "title": {
          "text": "1"
         }
        }
       }
      }
     },
     "metadata": {},
     "output_type": "display_data"
    }
   ],
   "source": [
    "# Do a PCA of the embedding and plot the first 2 dimensions\n",
    "from sklearn.decomposition import PCA\n",
    "\n",
    "pca = PCA(n_components=2)\n",
    "pca.fit(embeddings)\n",
    "embeddings_2d = pca.transform(embeddings)\n",
    "# convert to dataframe\n",
    "import pandas as pd\n",
    "embeddings_2d = pd.DataFrame(embeddings_2d)\n",
    "embeddings_2d['question'] = questions\n",
    "\n",
    "fig = px.scatter(embeddings_2d, x=0, y=1, color=kmeans.labels_, hover_data='question')\n",
    "# Plot the position of the cluster centers\n",
    "centers = pca.transform(kmeans.cluster_centers_)\n",
    "centers = pd.DataFrame(centers)\n",
    "centers['cluster'] = range(NUM_CLUSTERS)\n",
    "fig.add_scatter(x=centers[0], y=centers[1], mode='markers', marker=dict(size=10, color='black'), hoverinfo='text', text=centers['cluster'])\n",
    "\n",
    "fig.show()"
   ]
  },
  {
   "cell_type": "code",
   "execution_count": null,
   "metadata": {},
   "outputs": [],
   "source": [
    "# Visualize the embeddings with UMAP\n",
    "import umap\n",
    "import umap.plot\n",
    "umap.plot.output_notebook()"
   ]
  },
  {
   "cell_type": "code",
   "execution_count": 83,
   "metadata": {},
   "outputs": [],
   "source": [
    "\n",
    "mapper = umap.UMAP(n_neighbors=10,\n",
    "                            n_components=2,\n",
    "                            min_dist=0.0,\n",
    "                            # metric='cosine',\n",
    "                            ).fit(embeddings)\n",
    "# add questions to dataframe\n",
    "umap_embeddings = pd.DataFrame(mapper.embedding_)\n",
    "umap_embeddings['question'] = questions\n",
    "umap_embeddings['category'] = categories\n",
    "umap_embeddings['cluster'] = kmeans.labels_"
   ]
  },
  {
   "cell_type": "code",
   "execution_count": 84,
   "metadata": {},
   "outputs": [
    {
     "name": "stderr",
     "output_type": "stream",
     "text": [
      "/home/diego/.local/lib/python3.10/site-packages/umap/plot.py:885: UserWarning:\n",
      "\n",
      "Hammer edge bundling is expensive for large graphs!\n",
      "This may take a long time to compute!\n",
      "\n"
     ]
    },
    {
     "data": {
      "image/png": "[encoded data removed]",
      "text/plain": [
       "<Figure size 500x500 with 1 Axes>"
      ]
     },
     "metadata": {},
     "output_type": "display_data"
    },
    {
     "data": {
      "text/html": [
       "\n",
       "  <div class=\"bk-root\" id=\"ee67fe45-af56-4090-a4b3-cf5a324744d0\" data-root-id=\"2789\"></div>\n"
      ]
     },
     "metadata": {},
     "output_type": "display_data"
    },
    {
     "data": {
      "application/javascript": "(function(root) {\n  function embed_document(root) {\n  const docs_json = {\"050faa03-cdea-4331-bab7-2d495a5fa431\":{\"defs\":[{\"extends\":null,\"module\":null,\"name\":\"ReactiveHTML1\",\"overrides\":[],\"properties\":[]},{\"extends\":null,\"module\":null,\"name\":\"FlexBox1\",\"overrides\":[],\"properties\":[{\"default\":\"flex-start\",\"kind\":null,\"name\":\"align_content\"},{\"default\":\"flex-start\",\"kind\":null,\"name\":\"align_items\"},{\"default\":\"row\",\"kind\":null,\"name\":\"flex_direction\"},{\"default\":\"wrap\",\"kind\":null,\"name\":\"flex_wrap\"},{\"default\":\"flex-start\",\"kind\":null,\"name\":\"justify_content\"}]},{\"extends\":null,\"module\":null,\"name\":\"GridStack1\",\"overrides\":[],\"properties\":[{\"default\":\"warn\",\"kind\":null,\"name\":\"mode\"},{\"default\":null,\"kind\":null,\"name\":\"ncols\"},{\"default\":null,\"kind\":null,\"name\":\"nrows\"},{\"default\":true,\"kind\":null,\"name\":\"allow_resize\"},{\"default\":true,\"kind\":null,\"name\":\"allow_drag\"},{\"default\":[],\"kind\":null,\"name\":\"state\"}]},{\"extends\":null,\"module\":null,\"name\":\"click1\",\"overrides\":[],\"properties\":[{\"default\":\"\",\"kind\":null,\"name\":\"terminal_output\"},{\"default\":\"\",\"kind\":null,\"name\":\"debug_name\"},{\"default\":0,\"kind\":null,\"name\":\"clears\"}]},{\"extends\":null,\"module\":null,\"name\":\"NotificationAreaBase1\",\"overrides\":[],\"properties\":[{\"default\":\"bottom-right\",\"kind\":null,\"name\":\"position\"},{\"default\":0,\"kind\":null,\"name\":\"_clear\"}]},{\"extends\":null,\"module\":null,\"name\":\"NotificationArea1\",\"overrides\":[],\"properties\":[{\"default\":[],\"kind\":null,\"name\":\"notifications\"},{\"default\":\"bottom-right\",\"kind\":null,\"name\":\"position\"},{\"default\":0,\"kind\":null,\"name\":\"_clear\"},{\"default\":[{\"background\":\"#ffc107\",\"icon\":{\"className\":\"fas fa-exclamation-triangle\",\"color\":\"white\",\"tagName\":\"i\"},\"type\":\"warning\"},{\"background\":\"#007bff\",\"icon\":{\"className\":\"fas fa-info-circle\",\"color\":\"white\",\"tagName\":\"i\"},\"type\":\"info\"}],\"kind\":null,\"name\":\"types\"}]},{\"extends\":null,\"module\":null,\"name\":\"Notification\",\"overrides\":[],\"properties\":[{\"default\":null,\"kind\":null,\"name\":\"background\"},{\"default\":3000,\"kind\":null,\"name\":\"duration\"},{\"default\":null,\"kind\":null,\"name\":\"icon\"},{\"default\":\"\",\"kind\":null,\"name\":\"message\"},{\"default\":null,\"kind\":null,\"name\":\"notification_type\"},{\"default\":false,\"kind\":null,\"name\":\"_destroyed\"}]},{\"extends\":null,\"module\":null,\"name\":\"TemplateActions1\",\"overrides\":[],\"properties\":[{\"default\":0,\"kind\":null,\"name\":\"open_modal\"},{\"default\":0,\"kind\":null,\"name\":\"close_modal\"}]},{\"extends\":null,\"module\":null,\"name\":\"MaterialTemplateActions1\",\"overrides\":[],\"properties\":[{\"default\":0,\"kind\":null,\"name\":\"open_modal\"},{\"default\":0,\"kind\":null,\"name\":\"close_modal\"}]}],\"roots\":{\"references\":[{\"attributes\":{\"background_fill_color\":\"white\",\"below\":[{\"id\":\"2798\"}],\"center\":[{\"id\":\"2801\"},{\"id\":\"2805\"}],\"height\":500,\"left\":[{\"id\":\"2802\"}],\"renderers\":[{\"id\":\"2826\"}],\"title\":{\"id\":\"2949\"},\"toolbar\":{\"id\":\"2814\"},\"width\":500,\"x_range\":{\"id\":\"2790\"},\"x_scale\":{\"id\":\"2794\"},\"y_range\":{\"id\":\"2792\"},\"y_scale\":{\"id\":\"2796\"}},\"id\":\"2789\",\"subtype\":\"Figure\",\"type\":\"Plot\"},{\"attributes\":{},\"id\":\"2794\",\"type\":\"LinearScale\"},{\"attributes\":{\"data\":{\"alpha\":[1,1,1,1,1,1,1,1,1,1,1,1,1,1,1,1,1,1,1,1,1,1,1,1,1,1,1,1,1,1,1,1,1,1,1,1,1,1,1,1,1,1,1,1,1,1,1,1,1,1,1,1,1,1,1,1,1,1,1,1,1,1,1,1,1,1,1,1,1,1,1,1,1,1,1,1,1,1,1,1,1,1,1,1,1,1,1,1,1,1,1,1,1,1,1,1,1,1,1,1,1,1,1,1,1,1,1,1,1,1,1,1,1,1,1,1,1,1,1,1,1,1,1,1,1,1,1,1,1,1,1,1,1,1,1,1,1],\"category\":[\"About the world\",\"Perso - Easy\",\"Perso - Easy\",\"Perso - Easy\",\"Perso - Easy\",\"Perso - Easy\",\"Perso - Easy\",\"Perso - Easy\",\"Perso - Easy\",\"Perso - Easy\",\"Perso - Easy\",\"Perso - Easy\",\"Perso - Easy\",\"Perso - Easy\",\"Perso - Easy\",\"Perso - Easy\",\"Perso - Easy\",\"Perso - Easy\",\"Perso - Easy\",\"Perso - Easy\",\"Perso - Easy\",\"Perso - Easy\",\"Perso - Easy\",\"Perso - Easy\",\"Perso - Easy\",\"Perso - Easy\",\"Perso - Easy\",\"Perso - Easy\",\"Perso - Hard\",\"Regard sur le monde\",\"Regard sur le monde\",\"Regard sur le monde\",\"Regard sur le monde\",\"Regard sur le monde\",\"Regard sur le monde\",\"Regard sur le monde\",\"About the world\",\"Perso - Easy\",\"Perso - Easy\",\"Perso - Easy\",\"Perso - Easy\",\"Perso - Easy\",\"Perso - Easy\",\"Perso - Easy\",\"Perso - Easy\",\"Perso - Easy\",\"Perso - Easy\",\"Perso - Easy\",\"Perso - Easy\",\"Perso - Easy\",\"Perso - Easy\",\"Perso - Easy\",\"Perso - Easy\",\"Perso - Easy\",\"Perso - Easy\",\"Perso - Easy\",\"Perso - Easy\",\"Perso - Easy\",\"Perso - Easy\",\"Perso - Hard\",\"Perso - Hard\",\"Regard sur le monde\",\"Regard sur le monde\",\"Regard sur le monde\",\"Regard sur le monde\",\"Regard sur le monde\",\"Regard sur le monde\",\"Regard sur le monde\",\"Regard sur le monde\",\"Regard sur le monde\",\"About the world\",\"About the world\",\"About the world\",\"About the world\",\"About the world\",\"About the world\",\"About the world\",\"About the world\",\"Perso - Easy\",\"Perso - Easy\",\"Perso - Easy\",\"Perso - Easy\",\"Perso - Easy\",\"Perso - Easy\",\"Perso - Easy\",\"Perso - Easy\",\"Perso - Easy\",\"Perso - Easy\",\"Perso - Easy\",\"Perso - Hard\",\"Perso - Hard\",\"Perso - Hard\",\"Perso - Hard\",\"Perso - Hard\",\"Perso - Hard\",\"Perso - Hard\",\"Perso - Hard\",\"Regard sur le monde\",\"Regard sur le monde\",\"Regard sur le monde\",\"Regard sur le monde\",\"Regard sur le monde\",\"Regard sur le monde\",\"Regard sur le monde\",\"Regard sur le monde\",\"Regard sur le monde\",\"Regard sur le monde\",\"Regard sur le monde\",\"Regard sur le monde\",\"About the world\",\"About the world\",\"About the world\",\"About the world\",\"About the world\",\"Perso - Hard\",\"Perso - Hard\",\"Perso - Hard\",\"Perso - Hard\",\"Regard sur le monde\",\"Regard sur le monde\",\"Regard sur le monde\",\"Regard sur le monde\",\"Perso - Easy\",\"Perso - Hard\",\"Perso - Hard\",\"Perso - Hard\",\"Perso - Hard\",\"Perso - Hard\",\"Perso - Hard\",\"Perso - Hard\",\"Perso - Hard\",\"Perso - Hard\",\"Perso - Hard\",\"Perso - Hard\",\"Perso - Hard\",\"Regard sur le monde\",\"About the world\"],\"cluster\":{\"__ndarray__\":\"AAAAAAEAAAAAAAAAAAAAAAEAAAABAAAAAQAAAAIAAAACAAAAAgAAAAIAAAABAAAAAQAAAAEAAAABAAAAAgAAAAEAAAACAAAAAgAAAAIAAAACAAAAAQAAAAEAAAABAAAAAgAAAAEAAAABAAAAAAAAAAEAAAAAAAAAAAAAAAIAAAABAAAAAgAAAAIAAAACAAAAAAAAAAAAAAACAAAAAQAAAAAAAAAAAAAAAAAAAAAAAAACAAAAAQAAAAEAAAABAAAAAQAAAAAAAAABAAAAAQAAAAEAAAACAAAAAQAAAAEAAAABAAAAAQAAAAIAAAACAAAAAQAAAAAAAAADAAAAAwAAAAIAAAACAAAAAgAAAAEAAAACAAAAAgAAAAMAAAADAAAAAwAAAAAAAAAAAAAAAwAAAAMAAAACAAAAAAAAAAAAAAAAAAAAAAAAAAAAAAABAAAAAgAAAAIAAAABAAAAAgAAAAIAAAAAAAAAAgAAAAIAAAACAAAAAQAAAAAAAAACAAAAAAAAAAMAAAAAAAAAAAAAAAAAAAAAAAAAAwAAAAAAAAADAAAAAwAAAAAAAAAAAAAAAAAAAAMAAAADAAAAAwAAAAIAAAAAAAAAAgAAAAEAAAACAAAAAgAAAAMAAAAAAAAAAAAAAAAAAAACAAAAAgAAAAIAAAACAAAAAgAAAAIAAAACAAAAAQAAAAEAAAACAAAAAgAAAAEAAAACAAAAAgAAAAIAAAA=\",\"dtype\":\"int32\",\"order\":\"little\",\"shape\":[137]},\"color\":[\"#9e0142\",\"#fdbf6f\",\"#9e0142\",\"#9e0142\",\"#fdbf6f\",\"#fdbf6f\",\"#fdbf6f\",\"#bfe5a0\",\"#bfe5a0\",\"#bfe5a0\",\"#bfe5a0\",\"#fdbf6f\",\"#fdbf6f\",\"#fdbf6f\",\"#fdbf6f\",\"#bfe5a0\",\"#fdbf6f\",\"#bfe5a0\",\"#bfe5a0\",\"#bfe5a0\",\"#bfe5a0\",\"#fdbf6f\",\"#fdbf6f\",\"#fdbf6f\",\"#bfe5a0\",\"#fdbf6f\",\"#fdbf6f\",\"#9e0142\",\"#fdbf6f\",\"#9e0142\",\"#9e0142\",\"#bfe5a0\",\"#fdbf6f\",\"#bfe5a0\",\"#bfe5a0\",\"#bfe5a0\",\"#9e0142\",\"#9e0142\",\"#bfe5a0\",\"#fdbf6f\",\"#9e0142\",\"#9e0142\",\"#9e0142\",\"#9e0142\",\"#bfe5a0\",\"#fdbf6f\",\"#fdbf6f\",\"#fdbf6f\",\"#fdbf6f\",\"#9e0142\",\"#fdbf6f\",\"#fdbf6f\",\"#fdbf6f\",\"#bfe5a0\",\"#fdbf6f\",\"#fdbf6f\",\"#fdbf6f\",\"#fdbf6f\",\"#bfe5a0\",\"#bfe5a0\",\"#fdbf6f\",\"#9e0142\",\"#5e4fa2\",\"#5e4fa2\",\"#bfe5a0\",\"#bfe5a0\",\"#bfe5a0\",\"#fdbf6f\",\"#bfe5a0\",\"#bfe5a0\",\"#5e4fa2\",\"#5e4fa2\",\"#5e4fa2\",\"#9e0142\",\"#9e0142\",\"#5e4fa2\",\"#5e4fa2\",\"#bfe5a0\",\"#9e0142\",\"#9e0142\",\"#9e0142\",\"#9e0142\",\"#9e0142\",\"#fdbf6f\",\"#bfe5a0\",\"#bfe5a0\",\"#fdbf6f\",\"#bfe5a0\",\"#bfe5a0\",\"#9e0142\",\"#bfe5a0\",\"#bfe5a0\",\"#bfe5a0\",\"#fdbf6f\",\"#9e0142\",\"#bfe5a0\",\"#9e0142\",\"#5e4fa2\",\"#9e0142\",\"#9e0142\",\"#9e0142\",\"#9e0142\",\"#5e4fa2\",\"#9e0142\",\"#5e4fa2\",\"#5e4fa2\",\"#9e0142\",\"#9e0142\",\"#9e0142\",\"#5e4fa2\",\"#5e4fa2\",\"#5e4fa2\",\"#bfe5a0\",\"#9e0142\",\"#bfe5a0\",\"#fdbf6f\",\"#bfe5a0\",\"#bfe5a0\",\"#5e4fa2\",\"#9e0142\",\"#9e0142\",\"#9e0142\",\"#bfe5a0\",\"#bfe5a0\",\"#bfe5a0\",\"#bfe5a0\",\"#bfe5a0\",\"#bfe5a0\",\"#bfe5a0\",\"#fdbf6f\",\"#fdbf6f\",\"#bfe5a0\",\"#bfe5a0\",\"#fdbf6f\",\"#bfe5a0\",\"#bfe5a0\",\"#bfe5a0\"],\"index\":[0,1,2,3,4,5,6,7,8,9,10,11,12,13,14,15,16,17,18,19,20,21,22,23,24,25,26,27,28,29,30,31,32,33,34,35,36,37,38,39,40,41,42,43,44,45,46,47,48,49,50,51,52,53,54,55,56,57,58,59,60,61,62,63,64,65,66,67,68,69,70,71,72,73,74,75,76,77,78,79,80,81,82,83,84,85,86,87,88,89,90,91,92,93,94,95,96,97,98,99,100,101,102,103,104,105,106,107,108,109,110,111,112,113,114,115,116,117,118,119,120,121,122,123,124,125,126,127,128,129,130,131,132,133,134,135,136],\"label\":{\"__ndarray__\":\"AAAAAAEAAAAAAAAAAAAAAAEAAAABAAAAAQAAAAIAAAACAAAAAgAAAAIAAAABAAAAAQAAAAEAAAABAAAAAgAAAAEAAAACAAAAAgAAAAIAAAACAAAAAQAAAAEAAAABAAAAAgAAAAEAAAABAAAAAAAAAAEAAAAAAAAAAAAAAAIAAAABAAAAAgAAAAIAAAACAAAAAAAAAAAAAAACAAAAAQAAAAAAAAAAAAAAAAAAAAAAAAACAAAAAQAAAAEAAAABAAAAAQAAAAAAAAABAAAAAQAAAAEAAAACAAAAAQAAAAEAAAABAAAAAQAAAAIAAAACAAAAAQAAAAAAAAADAAAAAwAAAAIAAAACAAAAAgAAAAEAAAACAAAAAgAAAAMAAAADAAAAAwAAAAAAAAAAAAAAAwAAAAMAAAACAAAAAAAAAAAAAAAAAAAAAAAAAAAAAAABAAAAAgAAAAIAAAABAAAAAgAAAAIAAAAAAAAAAgAAAAIAAAACAAAAAQAAAAAAAAACAAAAAAAAAAMAAAAAAAAAAAAAAAAAAAAAAAAAAwAAAAAAAAADAAAAAwAAAAAAAAAAAAAAAAAAAAMAAAADAAAAAwAAAAIAAAAAAAAAAgAAAAEAAAACAAAAAgAAAAMAAAAAAAAAAAAAAAAAAAACAAAAAgAAAAIAAAACAAAAAgAAAAIAAAACAAAAAQAAAAEAAAACAAAAAgAAAAEAAAACAAAAAgAAAAIAAAA=\",\"dtype\":\"int32\",\"order\":\"little\",\"shape\":[137]},\"question\":[\"Why have we not encountered extraterrestrial life yet?\",\"Do you have an internal monologue?\",\"If aliens landed on Earth, what would they be impressed by?\",\"If aliens landed on Earth, what would they find most bizarre?\",\"If you could change one thing instantly, what would make you happy?\",\"What book, podcast or movie had a major impact on you?\",\"What brings you joy in a typical day?\",\"What do you discuss with your (grand)parents during a family dinner?\",\"What does a perfect day look like for you?\",\"What does your ideal evening look like?\",\"What irritates you?\",\"What is a gift that brought you joy? Why ?\",\"What is one childhood memories you hold dear?\",\"What is one of your dreams?\",\"What is one of your most memorable evenings? Why ?\",\"What keeps you up at night?\",\"What kind of adventures do you prefer? People, places, cultures, knowledge, something else?\",\"What major change have you experienced in the last 12 months?\",\"What makes you angry?\",\"What makes you like or dislike a person?\",\"What makes you want to fight?\",\"What motivates you to do what you do?\",\"What place makes you nostalgic?\",\"What product still gives you happiness, long after the feeling of novelty has passed?\",\"What qualities do your parents find in you? (friends ?)\",\"When's the last time you did something for the first time?\",\"Where do you wish you stayed longer?\",\"Would you rather have a perfect memory, or only need to sleep two hours a day?\",\"When did you come closest to death?\",\"If in the future you had to replace a part of your body with a prosthesis, what part would it be?\",\"If you could have a drink with anyone in the world, who would it be?\",\"What are maximaly interesting questions?\",\"What book, podcast or movie do you recommend without restraint?\",\"What brings you a most sense of wonder in the natural world?\",\"What is a cause close to your heart and why?\",\"What\\u2019s a place you like in your hometown?\",\"What major change do you anticipate for next year?\",\"Do you wish to have children?\",\"How are you different to a typical person?\",\"How do you manage to let go and forget your responsibilities for a moment?\",\"How much would you sell your soul for?\",\"If you find that mathematics are incoherent, how would you react?\",\"If you weren't to be a human, what would you be?\",\"In which country would you like to live?\",\"Is there something you think and would like to act upon?\",\"What are you very grateful to your parents for?\",\"What brings you sadness on a typical day?\",\"What could your parents have done better for you?\",\"What did the 10-year-old-you give to the 20-year-old-you?\",\"What do you want to improve on in the near future?\",\"What event from your childhood had the most impact on what you do today?\",\"What have you wanted to do for a long time but don't? Why?\",\"What is one of the riskiest actions you have taken?\",\"What makes you get up in the morning?\",\"What music makes you cry?\",\"What would the 10-year-old-you say about your life now?\",\"When have you done something brave?\",\"Which activities makes you the most energised?\",\"What is your relationship with your parents?\",\"How do your friends describe you?\",\"What is one of your greatest achievements? One thing you're proud of about yourself?\",\"If you could spend a night under the stars with anyone in the world, who would it be?\",\"Should we ban or severely limit television?\",\"Should we block roads to force politicians to act for the climate?\",\"What are the most important qualities for you in a romantic partner?\",\"What are the most important qualities in a friend for you?\",\"What is something scientific that you admire?\",\"What's one of humanity's most significant achievement so far?\",\"What\\u2019s your relationship with religion?\",\"Where does beauty comes from?\",\"Do animals have the right to equal treatment?\",\"How can we save the world?\",\"How could we make the internet profitable without selling data?\",\"How do you solve Pascal's Mugging?\",\"How long will there be humans on Earth?\",\"Is violence justified to push a greater cause?\",\"What are the arguments against utilitarianism?\",\"What brings great discussion?\",\"Are you more optimistic or pessimistic about the future?\",\"How are you going to die?\",\"How many boxes do you open in the Newcomb\\u2019s problem?\",\"How would your life change if you had a universal basic income of 1000$ per month?\",\"If you had a billion dollars, what would you do?\",\"If you had to start your life over with some advice, what would it be?\",\"What are you looking for in a discussion?\",\"What are you struggling with? \",\"What do you think is your best achievement?\",\"What question could someone ask to learn the most about you?\",\"What's your part of light? What's your part of darkness?\",\"If you stopped your studies today, what would you do?\",\"What are you afraid of?\",\"What are you looking for in a romantic relationship?\",\"What holds (held) you back from being vegan?\",\"What is an action that you regret?\",\"What should happen for you to change your mind about the existence of God?\",\"Which achievment do you value a lot, but isn\\u2019t much considered by others\",\"Would you go in the happiness machine?\",\"If someone suffers far, does it mean that we should care less?\",\"If you could change any part of the world with a magic wand, what would you do?\",\"If you could know one thing about the future, what would it be?\",\"If you thought unaligned AGI would be created in 10 years, what would you do? \",\"If you were dictator of the world, what is the first measure you would put in place?\",\"Is sobriety the solution to our environmental problems?\",\"Is there a way in which you would like the world to be better?\",\"Should we ban abortion?\",\"Should we ban the majority of advertisements?\",\"What does the world of 2050 look like with net-zero carbon emissions?\",\"What is missing from the current education system?\",\"Would you go into a teleporter?\",\"Can we take the plane if we compensate our CO2 emissions?\",\"Do insects suffer?\",\"Should we have the same regulatory system for AIs as for drugs? And for technology in general?\",\"What is gender?\",\"What would humans do if they no longer needed to work?\",\"Do you think that identity exists, or is it just a feeling arising to make our personal history coherent?\",\"What do other people think is your best achievement?\",\"What questions do you like to ask to better understand another person? Why?\",\"What's your feeling right now?\",\"Should we get out of capitalism?\",\"What does a world with digital minds look like?\",\"What is the greatest threat to humanity in your field of expertise?\",\"You discover a gene that's 90% correlated with homicide. What do you decide to do?\",\"If you had to give up hugs or sex, which one would you choose? \",\"Are you wondering how one of your physical traits is perceived?\",\"Could you have a polyamorous relationship?\",\"Have you ever fallen in love?\",\"Is there something you never said to anybody?\",\"What are you afraid others might judge you about? \",\"What is one mistake you\\u2019ve encountered in a romantic relationship that you learned from and want to share?\",\"What is one of your deepest moments of sadness/happiness?\",\"What is something you are not proud of? \",\"What makes it hard for you to be vulnerable? \",\"What makes you sad about your interaction with other humans? \",\"When was the last time you cried? (and that you are okay to share)\",\"Why are you monogamous?\",\"What are the low confidence hypotheses you make about me?\",\"What is something surprinsing in your field of expertise?\"],\"x\":{\"__ndarray__\":\"GbvAQI7M1UD9GcFAGzfBQMj/8EDhQuFAKhPiQCbNh0Az+uVAVXTwQCRHskA8Ct5A3V7tQK6i/EBXc/NAbyj3QEP6AEEMCtlAJJOxQGtKkkDJ4qJAuEbeQFuSBEGoY+JAxxSPQEHaxUBbWgVB0Ur9QBOKxkCW+OxATWP5QIPNh0BvNuRA1BDEQOfT0UBORQVByILeQPm8A0Fn6Y9A8MoCQaUN6kA57/1ArvjvQFA3B0FwrvxAetGQQCIw2UArZo1A7O7PQDqb10By6elAISgFQU+yukDWpe9Au9LUQHwkAkHQ5MVAkrTjQC4/ikAD6o9A8sDZQL6B+kDgX5hAw3ufQDxXl0B3eJJA7d20QBQ11kCco4NAgJDGQFm/k0CN7ctAfwHRQHpqwkBgMsJAIGiUQEwCkkCZFoxA9P7eQMi6xUARQsVAdWPkQJaQ60A6ZwBBVN+PQJIurkCyJuBABhGMQFUM9kDMSPRAg72oQC+5oECYeaNASx+9QF1G/UDOZrpAPqnoQE5BlkAeufFAi+/oQGoc8kDMtfJAAMWZQEsK1kBMq5FApmyeQKpGukDXPdZAjUXnQPvyo0D1SJVAWpOZQLcukECNyd9A+I6iQOKK2UDSdYdA2OPVQBvFnkDPS8dAMA+xQDdht0AL/PtACpCXQJxsqUDIjrxA2eisQKlln0D/KLJAw/TZQDMh0kDGCaRA6xCyQMnoykA9f6tAhSuYQIrZtUA=\",\"dtype\":\"float32\",\"order\":\"little\",\"shape\":[137]},\"y\":{\"__ndarray__\":\"30MrQaIrY0H9XyxBJewsQbTLL0HdjGFBBuRKQbGCXUFnIElBI9dPQVPsREGvl1JBjexbQTwqREHEnVJBfxhOQX0RUEFibC5B0edEQUngVkHaUjxB4PJYQX7sSUF9QkJBof9YQWzHVEEdM0JB7mRQQbjoTUHjnilBuZMsQTGbREGqIGNBTwY4QfOlSUGzPEpBErgqQaYhQUFz4E5Bl4Q0QU+MHkFPpiBBvJQqQWiuRUHGQTFBaBZiQYXRSUG1bGBB2DNlQffqK0FnO11Be4Q/QWceU0FnY05BpnFLQcj3KUH/h1ZBWW9aQf18XkEbnVdBkvxbQatMLUGpyBhBKowbQQyBWUHTiFhB8DI8QR5ZWkEN011Bhzg9QQ3cKUHQnh1BAjAZQSrCXkG7JCNBmPgpQeXyI0Hm8UJBNzgqQUAdR0EZpV9BJ4cgQf7yHEFK7S1BusNAQbCuQUGDsltBwVFHQUM4TEEo9x5B5ytAQeBpXEGYvDVBC01WQdJ5I0HWVTRBysE1QeKzLkHtvyRBmkgrQYH2H0F6fSVBWakeQVlbJkGfNh1BPrgXQY4bIEEOzStBpqIyQYIRHEHWbi1BBWgbQZcvPUEY8hxB2eVPQXG+XEELPkVBB/tGQS0ZF0Gc3C9BQLE2QYRZOUF+pCxBq5JOQfD+XEGrF1hBlvJLQefeSEGNXllBo+NNQedeWEGeKz1BoRBHQSzoT0G+dFxBmVZNQdrDOEE=\",\"dtype\":\"float32\",\"order\":\"little\",\"shape\":[137]}},\"selected\":{\"id\":\"2958\"},\"selection_policy\":{\"id\":\"2957\"}},\"id\":\"2788\",\"type\":\"ColumnDataSource\"},{\"attributes\":{},\"id\":\"2953\",\"type\":\"AllLabels\"},{\"attributes\":{\"bottom_units\":\"screen\",\"coordinates\":null,\"fill_alpha\":0.5,\"fill_color\":\"lightgrey\",\"group\":null,\"left_units\":\"screen\",\"level\":\"overlay\",\"line_alpha\":1.0,\"line_color\":\"black\",\"line_dash\":[4,4],\"line_width\":2,\"right_units\":\"screen\",\"syncable\":false,\"top_units\":\"screen\"},\"id\":\"2812\",\"type\":\"BoxAnnotation\"},{\"attributes\":{},\"id\":\"2790\",\"type\":\"DataRange1d\"},{\"attributes\":{\"tools\":[{\"id\":\"2806\"},{\"id\":\"2807\"},{\"id\":\"2808\"},{\"id\":\"2809\"},{\"id\":\"2810\"},{\"id\":\"2811\"},{\"id\":\"2813\"}]},\"id\":\"2814\",\"type\":\"Toolbar\"},{\"attributes\":{},\"id\":\"2807\",\"type\":\"WheelZoomTool\"},{\"attributes\":{},\"id\":\"2952\",\"type\":\"BasicTickFormatter\"},{\"attributes\":{},\"id\":\"2799\",\"type\":\"BasicTicker\"},{\"attributes\":{\"coordinates\":null,\"group\":null},\"id\":\"2949\",\"type\":\"Title\"},{\"attributes\":{\"fill_alpha\":{\"value\":0.2},\"fill_color\":{\"field\":\"color\"},\"hatch_alpha\":{\"value\":0.2},\"hatch_color\":{\"field\":\"color\"},\"line_alpha\":{\"value\":0.2},\"line_color\":{\"field\":\"color\"},\"size\":{\"value\":8.54357657716761},\"x\":{\"field\":\"x\"},\"y\":{\"field\":\"y\"}},\"id\":\"2825\",\"type\":\"Circle\"},{\"attributes\":{},\"id\":\"2792\",\"type\":\"DataRange1d\"},{\"attributes\":{\"source\":{\"id\":\"2788\"}},\"id\":\"2827\",\"type\":\"CDSView\"},{\"attributes\":{},\"id\":\"2957\",\"type\":\"UnionRenderers\"},{\"attributes\":{\"fill_alpha\":{\"field\":\"alpha\"},\"fill_color\":{\"field\":\"color\"},\"hatch_alpha\":{\"field\":\"alpha\"},\"hatch_color\":{\"field\":\"color\"},\"line_alpha\":{\"field\":\"alpha\"},\"line_color\":{\"field\":\"color\"},\"size\":{\"value\":8.54357657716761},\"x\":{\"field\":\"x\"},\"y\":{\"field\":\"y\"}},\"id\":\"2823\",\"type\":\"Circle\"},{\"attributes\":{\"overlay\":{\"id\":\"2812\"}},\"id\":\"2808\",\"type\":\"BoxZoomTool\"},{\"attributes\":{\"callback\":null,\"tooltips\":[[\"question\",\"@{question}\"],[\"cluster\",\"@{cluster}\"],[\"category\",\"@{category}\"]]},\"id\":\"2813\",\"type\":\"HoverTool\"},{\"attributes\":{\"fill_alpha\":{\"value\":0.1},\"fill_color\":{\"field\":\"color\"},\"hatch_alpha\":{\"value\":0.1},\"hatch_color\":{\"field\":\"color\"},\"line_alpha\":{\"value\":0.1},\"line_color\":{\"field\":\"color\"},\"size\":{\"value\":8.54357657716761},\"x\":{\"field\":\"x\"},\"y\":{\"field\":\"y\"}},\"id\":\"2824\",\"type\":\"Circle\"},{\"attributes\":{\"coordinates\":null,\"formatter\":{\"id\":\"2955\"},\"group\":null,\"major_label_policy\":{\"id\":\"2956\"},\"ticker\":{\"id\":\"2799\"},\"visible\":false},\"id\":\"2798\",\"type\":\"LinearAxis\"},{\"attributes\":{},\"id\":\"2796\",\"type\":\"LinearScale\"},{\"attributes\":{\"coordinates\":null,\"formatter\":{\"id\":\"2952\"},\"group\":null,\"major_label_policy\":{\"id\":\"2953\"},\"ticker\":{\"id\":\"2803\"},\"visible\":false},\"id\":\"2802\",\"type\":\"LinearAxis\"},{\"attributes\":{\"axis\":{\"id\":\"2798\"},\"coordinates\":null,\"group\":null,\"ticker\":null,\"visible\":false},\"id\":\"2801\",\"type\":\"Grid\"},{\"attributes\":{},\"id\":\"2955\",\"type\":\"BasicTickFormatter\"},{\"attributes\":{},\"id\":\"2811\",\"type\":\"HelpTool\"},{\"attributes\":{},\"id\":\"2809\",\"type\":\"SaveTool\"},{\"attributes\":{},\"id\":\"2956\",\"type\":\"AllLabels\"},{\"attributes\":{\"axis\":{\"id\":\"2802\"},\"coordinates\":null,\"dimension\":1,\"group\":null,\"ticker\":null,\"visible\":false},\"id\":\"2805\",\"type\":\"Grid\"},{\"attributes\":{},\"id\":\"2958\",\"type\":\"Selection\"},{\"attributes\":{},\"id\":\"2806\",\"type\":\"PanTool\"},{\"attributes\":{},\"id\":\"2803\",\"type\":\"BasicTicker\"},{\"attributes\":{},\"id\":\"2810\",\"type\":\"ResetTool\"},{\"attributes\":{\"coordinates\":null,\"data_source\":{\"id\":\"2788\"},\"glyph\":{\"id\":\"2823\"},\"group\":null,\"hover_glyph\":null,\"muted_glyph\":{\"id\":\"2825\"},\"nonselection_glyph\":{\"id\":\"2824\"},\"view\":{\"id\":\"2827\"}},\"id\":\"2826\",\"type\":\"GlyphRenderer\"}],\"root_ids\":[\"2789\"]},\"title\":\"Bokeh Application\",\"version\":\"2.4.3\"}};\n  const render_items = [{\"docid\":\"050faa03-cdea-4331-bab7-2d495a5fa431\",\"root_ids\":[\"2789\"],\"roots\":{\"2789\":\"ee67fe45-af56-4090-a4b3-cf5a324744d0\"}}];\n  root.Bokeh.embed.embed_items_notebook(docs_json, render_items);\n  }\n  if (root.Bokeh !== undefined) {\n    embed_document(root);\n  } else {\n    let attempts = 0;\n    const timer = setInterval(function(root) {\n      if (root.Bokeh !== undefined) {\n        clearInterval(timer);\n        embed_document(root);\n      } else {\n        attempts++;\n        if (attempts > 100) {\n          clearInterval(timer);\n          console.log(\"Bokeh: ERROR: Unable to run BokehJS code because BokehJS library is missing\");\n        }\n      }\n    }, 10, root)\n  }\n})(window);",
      "application/vnd.bokehjs_exec.v0+json": ""
     },
     "metadata": {
      "application/vnd.bokehjs_exec.v0+json": {
       "id": "2789"
      }
     },
     "output_type": "display_data"
    }
   ],
   "source": [
    "hover_data = pd.DataFrame({'question': questions, 'cluster': kmeans.labels_, 'category': categories})\n",
    "fig = umap.plot.connectivity(mapper, show_points=True, edge_bundling='hammer',\n",
    "# fig = umap.plot.interactive(mapper, hover_data=hover_data, \n",
    "    # labels=umap_embeddings['category'], \n",
    "    labels=umap_embeddings['cluster'], \n",
    "    width=500, height=500)\n",
    "# umap.plot.points(mapper, labels=kmeans.labels_, theme='fire')\n",
    "umap.plot.show(fig)\n",
    "\n",
    "fig2 = umap.plot.interactive(mapper, hover_data=hover_data, \n",
    "    # labels=umap_embeddings['category'], \n",
    "    labels=umap_embeddings['cluster'], \n",
    "    width=500, height=500)\n",
    "\n",
    "umap.plot.show(fig2)"
   ]
  }
 ],
 "metadata": {
  "kernelspec": {
   "display_name": "Python 3",
   "language": "python",
   "name": "python3"
  },
  "language_info": {
   "codemirror_mode": {
    "name": "ipython",
    "version": 3
   },
   "file_extension": ".py",
   "mimetype": "text/x-python",
   "name": "python",
   "nbconvert_exporter": "python",
   "pygments_lexer": "ipython3",
   "version": "3.11.3"
  },
  "orig_nbformat": 4,
  "vscode": {
   "interpreter": {
    "hash": "e7370f93d1d0cde622a1f8e1c04877d8463912d04d973331ad4851f04de6915a"
   }
  }
 },
 "nbformat": 4,
 "nbformat_minor": 2
}
